{
 "cells": [
  {
   "cell_type": "code",
   "execution_count": 29,
   "metadata": {
    "collapsed": true
   },
   "outputs": [],
   "source": [
    "import numpy as np\n",
    "import definitionsFits as defs\n",
    "import matplotlib.pyplot as plt\n",
    "import cmath\n",
    "import scipy.special as spcl\n",
    "import pylab\n",
    "import differentFitting as diffFit\n",
    "%matplotlib inline\n",
    "\n",
    "def alphaOne(omega, bA, bB, bC, bD, bE, bF):\n",
    "    termOne = bA / (omega - bB)\n",
    "    termTwo = bC * np.exp(-bD * np.power(omega - bE, 2.0))\n",
    "    return termOne + termTwo + bF\n",
    "\n",
    "def alphaThree(omega, bA, bB, bC, bD, bE, bF, bG, bH, bI):\n",
    "    termOne = bA / (omega - bB)\n",
    "    termTwo = bC * np.exp(-bD * np.power(omega - bE, 2.0))\n",
    "    termThree = bF * np.exp(-bG * np.power(omega - bH, 2.0))\n",
    "    return termOne + termTwo + termThree + bI"
   ]
  },
  {
   "cell_type": "code",
   "execution_count": 14,
   "metadata": {
    "collapsed": false
   },
   "outputs": [
    {
     "data": {
      "text/plain": [
       "(-10, 10)"
      ]
     },
     "execution_count": 14,
     "metadata": {},
     "output_type": "execute_result"
    },
    {
     "data": {
      "image/png": "[encoded data removed]",
      "text/plain": [
       "<matplotlib.figure.Figure at 0x108d37f10>"
      ]
     },
     "metadata": {},
     "output_type": "display_data"
    }
   ],
   "source": [
    "plt.plot(defs.omega_dip, alphaOne(defs.omega_dip,-9.81535556e+00,   3.13975075e-01,   4.94111384e+02,\n",
    "          4.29958163e-01,  -2.09667678e+00,   5.85035181e+00), defs.omega_dip, alphaThree(defs.omega_dip,\\\n",
    "          3.26519717e-01,  -3.86939149e-01,  -6.38185123e+00,\n",
    "          9.69371148e+00,   6.33599497e-02,  -1.60485987e-01,\n",
    "         -1.36571022e-01,   1.15095946e-02,  -7.14781666e-02\n",
    "          ))\n",
    "pylab.ylim([-10, 10])"
   ]
  },
  {
   "cell_type": "code",
   "execution_count": 36,
   "metadata": {
    "collapsed": true
   },
   "outputs": [],
   "source": [
    "def plotWithAlphas(omegaV, alpha_free):\n",
    "                       \n",
    "    dawsarg_1st = defs.T*(defs.delta_m[0] - omegaV)\n",
    "    dawsarg_3rd = defs.T*(defs.delta_m[1] - omegaV)\n",
    "    alpha1f = alphaOne(defs.omega_dip,-9.81535556e+00,   3.13975075e-01,   4.94111384e+02,\n",
    "          4.29958163e-01,  -2.09667678e+00,   5.85035181e+00)\n",
    "    alpha3f = alphaThree(defs.omega_dip,\\\n",
    "          3.26519717e-01,  -3.86939149e-01,  -6.38185123e+00,\n",
    "          9.69371148e+00,   6.33599497e-02,  -1.60485987e-01,\n",
    "         -1.36571022e-01,   1.15095946e-02,  -7.14781666e-02)\n",
    "          \n",
    "    #     alpha1f = fit_dipoles(omegaV, m_1, b_1)\n",
    "#     alpha3f = fit_dipoles3(omegaV, m_3, b_3)\n",
    "    real_factor = (alpha1f*np.exp(-alpha_free*defs.T*defs.T*(defs.delta_m[0]-omegaV)\\\n",
    "                    *(defs.delta_m[0]-omegaV)))\\\n",
    "                     + (alpha3f * np.exp(-alpha_free* defs.T * defs.T *\\\n",
    "                    (defs.delta_m[1]-omegaV)*(defs.delta_m[1]-omegaV)))\n",
    "    imag_factor = (alpha1f*(-2*cmath.sqrt(-1))/\\\n",
    "        (np.sqrt(np.pi))*spcl.dawsn(np.sqrt(alpha_free)*dawsarg_1st)) + \\\n",
    "            (alpha3f*((-2*cmath.sqrt(-1))/\\\n",
    "                (np.sqrt(np.pi)))*spcl.dawsn(np.sqrt(alpha_free)*dawsarg_3rd))\n",
    "    domegaV = np.gradient(omegaV)\n",
    "    phase_fit = np.arctan(np.imag(imag_factor)/np.real(real_factor))\n",
    "    \n",
    "    dphi_fit = np.gradient(phase_fit, domegaV)\n",
    "    return dphi_fit  \n"
   ]
  },
  {
   "cell_type": "code",
   "execution_count": 39,
   "metadata": {
    "collapsed": false
   },
   "outputs": [],
   "source": [
    "sampleOne = plotWithAlphas(defs.omega_dip, 5.62392912e-03)"
   ]
  },
  {
   "cell_type": "code",
   "execution_count": 40,
   "metadata": {
    "collapsed": false
   },
   "outputs": [
    {
     "data": {
      "text/plain": [
       "(-10, 10)"
      ]
     },
     "execution_count": 40,
     "metadata": {},
     "output_type": "execute_result"
    },
    {
     "data": {
      "image/png": "[encoded data removed]",
      "text/plain": [
       "<matplotlib.figure.Figure at 0x108f6b8d0>"
      ]
     },
     "metadata": {},
     "output_type": "display_data"
    }
   ],
   "source": [
    "plt.plot(defs.omega_dip, sampleOne, 'r-', diffFit.x, diffFit.y, 'bo')\n",
    "pylab.ylim([-10, 10])"
   ]
  },
  {
   "cell_type": "code",
   "execution_count": 28,
   "metadata": {
    "collapsed": false
   },
   "outputs": [
    {
     "data": {
      "text/plain": [
       "array([ -4.67738648e-01,  -4.67746440e-01,  -4.67762023e-01, ...,\n",
       "         1.46678290e-09,   1.37607922e-09,   1.33222323e-09])"
      ]
     },
     "execution_count": 28,
     "metadata": {},
     "output_type": "execute_result"
    }
   ],
   "source": [
    "sampleOne"
   ]
  },
  {
   "cell_type": "code",
   "execution_count": null,
   "metadata": {
    "collapsed": true
   },
   "outputs": [],
   "source": []
  }
 ],
 "metadata": {
  "kernelspec": {
   "display_name": "Python 2",
   "language": "python",
   "name": "python2"
  },
  "language_info": {
   "codemirror_mode": {
    "name": "ipython",
    "version": 2
   },
   "file_extension": ".py",
   "mimetype": "text/x-python",
   "name": "python",
   "nbconvert_exporter": "python",
   "pygments_lexer": "ipython2",
   "version": "2.7.11"
  }
 },
 "nbformat": 4,
 "nbformat_minor": 0
}
