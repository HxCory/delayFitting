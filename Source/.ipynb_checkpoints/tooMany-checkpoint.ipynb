{
 "cells": [
  {
   "cell_type": "code",
   "execution_count": 96,
   "metadata": {
    "collapsed": true
   },
   "outputs": [],
   "source": [
    "import numpy as np\n",
    "import definitionsFits as defs\n",
    "import matplotlib.pyplot as plt\n",
    "import cmath\n",
    "import os\n",
    "import scipy.special as spcl\n",
    "import pylab\n",
    "import differentFitting as diffFit\n",
    "import scipy.optimize as sopt\n",
    "\n",
    "%matplotlib inline\n",
    "\n",
    "def alphaOne(omega, bA, bB, bC, bD, bE, bF):\n",
    "    termOne = bA / (omega - bB)\n",
    "    termTwo = bC * np.exp(-bD * np.power(omega - bE, 2.0))\n",
    "    return termOne + termTwo + bF\n",
    "\n",
    "def alphaThree(omega, bA, bB, bC, bD, bE, bF, bG, bH, bI):\n",
    "    termOne = bA / (omega - bB)\n",
    "    termTwo = bC * np.exp(-bD * np.power(omega - bE, 2.0))\n",
    "    termThree = bF * np.exp(-bG * np.power(omega - bH, 2.0))\n",
    "    return termOne + termTwo + termThree + bI"
   ]
  },
  {
   "cell_type": "code",
   "execution_count": 97,
   "metadata": {
    "collapsed": false
   },
   "outputs": [
    {
     "data": {
      "text/plain": [
       "(-1, 1)"
      ]
     },
     "execution_count": 97,
     "metadata": {},
     "output_type": "execute_result"
    },
    {
     "data": {
      "image/png": "[encoded data removed]",
      "text/plain": [
       "<matplotlib.figure.Figure at 0x1091c2710>"
      ]
     },
     "metadata": {},
     "output_type": "display_data"
    }
   ],
   "source": [
    "plt.plot(defs.omega_dip, alphaOne(defs.omega_dip,-9.81535556e+00,   3.13975075e-01,   4.94111384e+02,\n",
    "          4.29958163e-01,  -2.09667678e+00,   5.85035181e+00), defs.omega_dip, alphaThree(defs.omega_dip,\\\n",
    "          3.26519717e-01,  -3.86939149e-01,  -6.38185123e+00,\n",
    "          9.69371148e+00,   6.33599497e-02,  -1.60485987e-01,\n",
    "         -1.36571022e-01,   1.15095946e-02,  -7.14781666e-02\n",
    "          ))\n",
    "pylab.ylim([-1, 1])"
   ]
  },
  {
   "cell_type": "code",
   "execution_count": 98,
   "metadata": {
    "collapsed": true
   },
   "outputs": [],
   "source": [
    "def presetAlphas(omegaV, alpha_free):\n",
    "                       \n",
    "    dawsarg_1st = defs.T*(defs.delta_m[0] - omegaV)\n",
    "    dawsarg_3rd = defs.T*(defs.delta_m[1] - omegaV)\n",
    "    alpha1f = alphaOne(defs.omega_dip,-9.81535556e+00,   3.13975075e-01,   4.94111384e+02,\n",
    "          4.29958163e-01,  -2.09667678e+00,   5.85035181e+00)\n",
    "    alpha3f = alphaThree(defs.omega_dip,\\\n",
    "          3.26519717e-01,  -3.86939149e-01,  -6.38185123e+00,\n",
    "          9.69371148e+00,   6.33599497e-02,  -1.60485987e-01,\n",
    "         -1.36571022e-01,   1.15095946e-02,  -7.15781666e-02)\n",
    "          \n",
    "    #     alpha1f = fit_dipoles(omegaV, m_1, b_1)\n",
    "#     alpha3f = fit_dipoles3(omegaV, m_3, b_3)\n",
    "    real_factor = (alpha1f*np.exp(-alpha_free*defs.T*defs.T*(defs.delta_m[0]-omegaV)\\\n",
    "                    *(defs.delta_m[0]-omegaV)))\\\n",
    "                     + (alpha3f * np.exp(-alpha_free* defs.T * defs.T *\\\n",
    "                    (defs.delta_m[1]-omegaV)*(defs.delta_m[1]-omegaV)))\n",
    "    imag_factor = (alpha1f*(-2*cmath.sqrt(-1))/\\\n",
    "        (np.sqrt(np.pi))*spcl.dawsn(np.sqrt(alpha_free)*dawsarg_1st)) + \\\n",
    "            (alpha3f*((-2*cmath.sqrt(-1))/\\\n",
    "                (np.sqrt(np.pi)))*spcl.dawsn(np.sqrt(alpha_free)*dawsarg_3rd))\n",
    "    domegaV = np.gradient(omegaV)\n",
    "    phase_fit = np.arctan(np.imag(imag_factor)/np.real(real_factor))\n",
    "    \n",
    "    dphi_fit = np.gradient(phase_fit, domegaV)\n",
    "    return dphi_fit  \n"
   ]
  },
  {
   "cell_type": "code",
   "execution_count": 99,
   "metadata": {
    "collapsed": false
   },
   "outputs": [],
   "source": [
    "sampleOne = presetAlphas(defs.omega_dip, 5.62392912e-03)"
   ]
  },
  {
   "cell_type": "code",
   "execution_count": 119,
   "metadata": {
    "collapsed": false
   },
   "outputs": [
    {
     "data": {
      "text/plain": [
       "(-5, 5)"
      ]
     },
     "execution_count": 119,
     "metadata": {},
     "output_type": "execute_result"
    },
    {
     "data": {
      "image/png": "[encoded data removed]",
      "text/plain": [
       "<matplotlib.figure.Figure at 0x10b64e5d0>"
      ]
     },
     "metadata": {},
     "output_type": "display_data"
    }
   ],
   "source": [
    "plt.plot(defs.omega_dip, sampleOne, 'r-', diffFit.x, diffFit.y, 'bo')\n",
    "pylab.ylim([-5, 5])"
   ]
  },
  {
   "cell_type": "code",
   "execution_count": 101,
   "metadata": {
    "collapsed": false
   },
   "outputs": [
    {
     "data": {
      "text/plain": [
       "array([-0.09084962, -0.09085281, -0.09085919, ...,  0.        ,\n",
       "        0.        ,  0.        ])"
      ]
     },
     "execution_count": 101,
     "metadata": {},
     "output_type": "execute_result"
    }
   ],
   "source": [
    "sampleOne"
   ]
  },
  {
   "cell_type": "code",
   "execution_count": 132,
   "metadata": {
    "collapsed": true
   },
   "outputs": [],
   "source": [
    "def fitAlphas(omegaV, b1A, b1B, b1C, b1D, b1E, b1F, \\\n",
    "\t\tb3A, b3B, b3C, b3D, b3E, b3F, b3G, b3H, b3I, alpha_free):                       \n",
    "    dawsarg_1st = defs.T*(defs.delta_m[0] - omegaV)\n",
    "    dawsarg_3rd = defs.T*(defs.delta_m[1] - omegaV)\n",
    "    alpha1f = alphaOne(omegaV, b1A, b1B, b1C, b1D, b1E, b1F)\n",
    "    alpha3f = alphaThree(omegaV, b3A, b3B, b3C, b3D, b3E, b3F, b3G, b3H, b3I)          \n",
    "    real_factor = (alpha1f*np.exp(-alpha_free*defs.T*defs.T*(defs.delta_m[0]-omegaV)\\\n",
    "                    *(defs.delta_m[0]-omegaV)))\\\n",
    "                     + (alpha3f * np.exp(-alpha_free* defs.T * defs.T *\\\n",
    "                    (defs.delta_m[1]-omegaV)*(defs.delta_m[1]-omegaV)))\n",
    "    imag_factor = (alpha1f*(-2*cmath.sqrt(-1))/\\\n",
    "        (np.sqrt(np.pi))*spcl.dawsn(np.sqrt(alpha_free)*dawsarg_1st)) + \\\n",
    "            (alpha3f*((-2*cmath.sqrt(-1))/\\\n",
    "                (np.sqrt(np.pi)))*spcl.dawsn(np.sqrt(alpha_free)*dawsarg_3rd))\n",
    "    domegaV = np.gradient(omegaV)\n",
    "    phase_fit = np.arctan(np.imag(imag_factor)/np.real(real_factor))\n",
    "    \n",
    "    dphi_fit = np.gradient(phase_fit, domegaV)\n",
    "    return dphi_fit \n",
    "\n",
    "def fitAlphasNoFree(omegaV, b1A, b1B, b1C, b1D, b1E, b1F, \\\n",
    "\t\tb3A, b3B, b3C, b3D, b3E, b3F, b3G, b3H, b3I):                       \n",
    "    dawsarg_1st = defs.T*(defs.delta_m[0] - omegaV)\n",
    "    dawsarg_3rd = defs.T*(defs.delta_m[1] - omegaV)\n",
    "    alpha1f = alphaOne(omegaV, b1A, b1B, b1C, b1D, b1E, b1F)\n",
    "    alpha3f = alphaThree(omegaV, b3A, b3B, b3C, b3D, b3E, b3F, b3G, b3H, b3I)          \n",
    "    real_factor = (alpha1f*np.exp(-defs.T*defs.T*(defs.delta_m[0]-omegaV)\\\n",
    "                    *(defs.delta_m[0]-omegaV)))\\\n",
    "                     + (alpha3f * np.exp(-defs.T * defs.T *\\\n",
    "                    (defs.delta_m[1]-omegaV)*(defs.delta_m[1]-omegaV)))\n",
    "    imag_factor = (alpha1f*(-2*cmath.sqrt(-1))/\\\n",
    "        (np.sqrt(np.pi))*spcl.dawsn(dawsarg_1st)) + \\\n",
    "            (alpha3f*((-2*cmath.sqrt(-1))/\\\n",
    "                (np.sqrt(np.pi)))*spcl.dawsn(dawsarg_3rd))\n",
    "    domegaV = np.gradient(omegaV)\n",
    "    phase_fit = np.arctan(np.imag(imag_factor)/np.real(real_factor))\n",
    "    \n",
    "    dphi_fit = np.gradient(phase_fit, domegaV)\n",
    "    return dphi_fit "
   ]
  },
  {
   "cell_type": "code",
   "execution_count": 103,
   "metadata": {
    "collapsed": true
   },
   "outputs": [],
   "source": [
    "p0_test = np.array([ -9.81535485e+00,   3.13972797e-01,   4.94111384e+02,\n",
    "          4.29838499e-01,  -2.09667026e+00,   5.85035196e+00,\n",
    "          3.26147227e-01,  -3.87039586e-01,  -6.38185284e+00,\n",
    "          9.69370558e+00,   6.33642758e-02,  -1.60981140e-01,\n",
    "         -1.36624353e-01,   1.14918371e-02,  -7.19300239e-02,\n",
    "          5.58729693e-03])"
   ]
  },
  {
   "cell_type": "code",
   "execution_count": 104,
   "metadata": {
    "collapsed": false
   },
   "outputs": [
    {
     "data": {
      "text/plain": [
       "(array([ -9.81535494e+00,   3.14053010e-01,   4.94111384e+02,\n",
       "          4.30146679e-01,  -2.09667239e+00,   5.85035180e+00,\n",
       "          3.26531315e-01,  -3.86932516e-01,  -6.38185017e+00,\n",
       "          9.69371461e+00,   6.33573641e-02,  -1.60493177e-01,\n",
       "         -1.36577603e-01,   1.15083895e-02,  -7.14802190e-02,\n",
       "          6.49634984e-03]),\n",
       " array([[  1.68776632e+12,   1.94579846e+08,  -2.91183339e+13,\n",
       "          -1.55417830e+10,  -9.60821015e+10,  -1.05132686e+12,\n",
       "           2.19916269e+10,  -1.18901750e+11,   1.36578764e+12,\n",
       "           8.07456266e+10,   5.78973890e+09,  -6.48823409e+10,\n",
       "           5.95452823e+10,   2.55213368e+11,   5.85130949e+10,\n",
       "          -4.96971319e+06],\n",
       "        [  1.94579846e+08,   4.75591057e+05,  -2.60535986e+10,\n",
       "           1.15186533e+06,   1.86295947e+07,  -1.59018465e+08,\n",
       "          -1.10903817e+07,   8.65982821e+06,   1.94523125e+08,\n",
       "           9.61443527e+06,   2.08339106e+06,  -1.57135336e+07,\n",
       "           8.41386300e+06,  -2.46404382e+07,   2.42933235e+07,\n",
       "          -2.25008745e+03],\n",
       "        [ -2.91183339e+13,  -2.60535986e+10,   8.74299918e+15,\n",
       "          -1.60290193e+12,  -1.13291984e+13,   1.82533959e+13,\n",
       "           3.68379268e+12,  -3.98149697e+12,  -1.94053411e+13,\n",
       "           6.76548177e+11,  -8.91231418e+10,   2.36470572e+11,\n",
       "          -8.95277528e+11,   1.55754393e+13,  -2.88778828e+12,\n",
       "           3.15891990e+07],\n",
       "        [ -1.55417830e+10,   1.15186533e+06,  -1.60290193e+12,\n",
       "           5.84907267e+08,   3.88109162e+09,   9.93269532e+09,\n",
       "          -1.15820338e+09,   2.50346567e+09,  -1.39520646e+10,\n",
       "          -1.28015816e+09,  -6.74346205e+07,   7.53450521e+08,\n",
       "          -5.05695932e+08,  -6.97465577e+09,  -5.14082803e+07,\n",
       "           7.06234803e+04],\n",
       "        [ -9.60821015e+10,   1.86295947e+07,  -1.13291984e+13,\n",
       "           3.88109162e+09,   2.60705017e+10,   6.04467847e+10,\n",
       "          -7.75773554e+09,   1.64002502e+10,  -8.55263880e+10,\n",
       "          -8.04940401e+09,  -3.79455593e+08,   4.93777775e+09,\n",
       "          -3.37858297e+09,  -4.62769248e+10,  -1.72135394e+08,\n",
       "           4.03277881e+05],\n",
       "        [ -1.05132686e+12,  -1.59018465e+08,   1.82533959e+13,\n",
       "           9.93269532e+09,   6.04467847e+10,   6.59446418e+11,\n",
       "          -1.40937593e+10,   7.44697749e+10,  -8.57627451e+11,\n",
       "          -5.13140349e+10,  -3.79566250e+09,   3.98529743e+10,\n",
       "          -3.60225678e+10,  -1.59994455e+11,  -3.57060356e+10,\n",
       "           3.30246818e+06],\n",
       "        [  2.19916269e+10,  -1.10903817e+07,   3.68379268e+12,\n",
       "          -1.15820338e+09,  -7.75773554e+09,  -1.40937593e+10,\n",
       "           4.78030510e+09,  -8.34495707e+09,   2.37379258e+10,\n",
       "           3.34999288e+09,   1.65303948e+08,   1.78351624e+09,\n",
       "          -1.18670445e+09,   1.69160782e+10,  -4.63584187e+09,\n",
       "          -1.31563604e+05],\n",
       "        [ -1.18901750e+11,   8.65982821e+06,  -3.98149697e+12,\n",
       "           2.50346567e+09,   1.64002502e+10,   7.44697749e+10,\n",
       "          -8.34495707e+09,   1.87044614e+10,  -1.05415043e+11,\n",
       "          -9.27535666e+09,  -5.47905983e+08,   9.08490085e+08,\n",
       "          -1.56148975e+09,  -3.78543538e+10,   3.70039292e+09,\n",
       "           4.48970099e+05],\n",
       "        [  1.36578764e+12,   1.94523125e+08,  -1.94053411e+13,\n",
       "          -1.39520646e+10,  -8.55263880e+10,  -8.57627451e+11,\n",
       "           2.37379258e+10,  -1.05415043e+11,   1.13450951e+12,\n",
       "           7.34930116e+10,   5.34886556e+09,  -6.40542821e+10,\n",
       "           5.55019576e+10,   2.25980666e+11,   5.55350498e+10,\n",
       "          -4.59673782e+06],\n",
       "        [  8.07456266e+10,   9.61443527e+06,   6.76548177e+11,\n",
       "          -1.28015816e+09,  -8.04940401e+09,  -5.13140349e+10,\n",
       "           3.34999288e+09,  -9.27535666e+09,   7.34930116e+10,\n",
       "           6.46193425e+09,   4.46018085e+08,  -6.87663261e+09,\n",
       "           5.39334787e+09,   2.00694422e+10,   5.22095420e+09,\n",
       "          -3.75598077e+05],\n",
       "        [  5.78973890e+09,   2.08339106e+06,  -8.91231418e+10,\n",
       "          -6.74346205e+07,  -3.79455593e+08,  -3.79566250e+09,\n",
       "           1.65303948e+08,  -5.47905983e+08,   5.34886556e+09,\n",
       "           4.46018085e+08,   3.60592114e+07,  -4.90379141e+08,\n",
       "           3.74264806e+08,   1.11414068e+09,   4.22590515e+08,\n",
       "          -3.11495627e+04],\n",
       "        [ -6.48823409e+10,  -1.57135336e+07,   2.36470572e+11,\n",
       "           7.53450521e+08,   4.93777775e+09,   3.98529743e+10,\n",
       "           1.78351624e+09,   9.08490085e+08,  -6.40542821e+10,\n",
       "          -6.87663261e+09,  -4.90379141e+08,   2.90299370e+10,\n",
       "          -2.05046417e+10,  -1.54745351e+10,  -3.03105488e+10,\n",
       "           4.33631786e+05],\n",
       "        [  5.95452823e+10,   8.41386300e+06,  -8.95277528e+11,\n",
       "          -5.05695932e+08,  -3.37858297e+09,  -3.60225678e+10,\n",
       "          -1.18670445e+09,  -1.56148975e+09,   5.55019576e+10,\n",
       "           5.39334787e+09,   3.74264806e+08,  -2.05046417e+10,\n",
       "           1.49749232e+10,   1.00522052e+10,   2.14968707e+10,\n",
       "          -3.17766075e+05],\n",
       "        [  2.55213368e+11,  -2.46404382e+07,   1.55754393e+13,\n",
       "          -6.97465577e+09,  -4.62769248e+10,  -1.59994455e+11,\n",
       "           1.69160782e+10,  -3.78543538e+10,   2.25980666e+11,\n",
       "           2.00694422e+10,   1.11414068e+09,  -1.54745351e+10,\n",
       "           1.00522052e+10,   1.09162113e+11,   5.28307931e+09,\n",
       "          -1.01779815e+06],\n",
       "        [  5.85130949e+10,   2.42933235e+07,  -2.88778828e+12,\n",
       "          -5.14082803e+07,  -1.72135394e+08,  -3.57060356e+10,\n",
       "          -4.63584187e+09,   3.70039292e+09,   5.55350498e+10,\n",
       "           5.22095420e+09,   4.22590515e+08,  -3.03105488e+10,\n",
       "           2.14968707e+10,   5.28307931e+09,   3.33527065e+10,\n",
       "          -3.78573336e+05],\n",
       "        [ -4.96971319e+06,  -2.25008745e+03,   3.15891990e+07,\n",
       "           7.06234803e+04,   4.03277881e+05,   3.30246818e+06,\n",
       "          -1.31563604e+05,   4.48970099e+05,  -4.59673782e+06,\n",
       "          -3.75598077e+05,  -3.11495627e+04,   4.33631786e+05,\n",
       "          -3.17766075e+05,  -1.01779815e+06,  -3.78573336e+05,\n",
       "           2.84930658e+01]]))"
      ]
     },
     "execution_count": 104,
     "metadata": {},
     "output_type": "execute_result"
    }
   ],
   "source": [
    "Path = '/Users/cgoldsmith/Desktop/text_files_data'\n",
    "os.chdir(Path)\n",
    "data = np.loadtxt('TDSE_3fs.txt')\n",
    "x = data[:, 0]\n",
    "y = data[:, 4]\n",
    "sopt.curve_fit(fitAlphas, x, y,\\\n",
    "p0 = p0_test, bounds=(-20,700), max_nfev=10000, check_finite=False)"
   ]
  },
  {
   "cell_type": "code",
   "execution_count": 111,
   "metadata": {
    "collapsed": false
   },
   "outputs": [
    {
     "data": {
      "text/plain": [
       "(-5, 5)"
      ]
     },
     "execution_count": 111,
     "metadata": {},
     "output_type": "execute_result"
    },
    {
     "data": {
      "image/png": "[encoded data removed]",
      "text/plain": [
       "<matplotlib.figure.Figure at 0x10916f5d0>"
      ]
     },
     "metadata": {},
     "output_type": "display_data"
    }
   ],
   "source": [
    "plt.plot(x, y, 'bo', defs.omega_dip, fitAlphas(defs.omega_dip, -9.81535494e+00,   3.14053010e-01,   4.94111384e+02,\n",
    "          4.30146679e-01,  -2.09667239e+00,   5.85035180e+00,\n",
    "          3.26531315e-01,  -3.86932516e-01,  -6.38185017e+00,\n",
    "          9.69371461e+00,   6.33573641e-02,  -1.60493177e-01,\n",
    "         -1.36577603e-01,   1.15083895e-02,  -7.14802190e-02,\n",
    "          6.49634984e-03), 'r-')\n",
    "\n",
    "pylab.ylim([-5, 5])"
   ]
  },
  {
   "cell_type": "code",
   "execution_count": 112,
   "metadata": {
    "collapsed": true
   },
   "outputs": [],
   "source": [
    "alphaOneTestOne = alphaOne(defs.omega_dip, -9.81535494e+00,   3.14053010e-01,   4.94111384e+02,\n",
    "          4.30146679e-01,  -2.09667239e+00,   5.85035180e+00)\n",
    "alphaThreeTestOne = alphaThree(defs.omega_dip, 3.26531315e-01,  -3.86932516e-01,  -6.38185017e+00,\n",
    "          9.69371461e+00,   6.33573641e-02,  -1.60493177e-01,\n",
    "         -1.36577603e-01,   1.15083895e-02,  -7.14802190e-02)"
   ]
  },
  {
   "cell_type": "code",
   "execution_count": 113,
   "metadata": {
    "collapsed": false
   },
   "outputs": [
    {
     "data": {
      "text/plain": [
       "[<matplotlib.lines.Line2D at 0x10aaad190>,\n",
       " <matplotlib.lines.Line2D at 0x108df3e90>]"
      ]
     },
     "execution_count": 113,
     "metadata": {},
     "output_type": "execute_result"
    },
    {
     "data": {
      "image/png": "[encoded data removed]",
      "text/plain": [
       "<matplotlib.figure.Figure at 0x10aaad510>"
      ]
     },
     "metadata": {},
     "output_type": "display_data"
    }
   ],
   "source": [
    "plt.plot(defs.omega_dip, alphaOneTestOne, defs.omega_dip, defs.dip_1)"
   ]
  },
  {
   "cell_type": "code",
   "execution_count": 114,
   "metadata": {
    "collapsed": false
   },
   "outputs": [
    {
     "data": {
      "text/plain": [
       "[<matplotlib.lines.Line2D at 0x108f3ce50>,\n",
       " <matplotlib.lines.Line2D at 0x10ad81c10>]"
      ]
     },
     "execution_count": 114,
     "metadata": {},
     "output_type": "execute_result"
    },
    {
     "data": {
      "image/png": "[encoded data removed]",
      "text/plain": [
       "<matplotlib.figure.Figure at 0x10adb1290>"
      ]
     },
     "metadata": {},
     "output_type": "display_data"
    }
   ],
   "source": [
    "plt.plot(defs.omega_dip, alphaThreeTestOne, defs.omega_dip, defs.dip_3)"
   ]
  },
  {
   "cell_type": "code",
   "execution_count": 116,
   "metadata": {
    "collapsed": false
   },
   "outputs": [],
   "source": [
    "p1Test = np.array([-9.81535494e+00,   3.14053010e-01,   4.94111384e+02,\n",
    "          4.30146679e-01,  -2.09667239e+00,   5.85035180e+00,\n",
    "          3.26531315e-01,  -3.86932516e-01,  -6.38185017e+00,\n",
    "          9.69371461e+00,   6.33573641e-02,  -1.60493177e-01,\n",
    "         -1.36577603e-01,   1.15083895e-02,  -7.14802190e-02,\n",
    "          6.49634984e-03])"
   ]
  },
  {
   "cell_type": "code",
   "execution_count": 117,
   "metadata": {
    "collapsed": false
   },
   "outputs": [
    {
     "data": {
      "text/plain": [
       "(array([ -9.81535494e+00,   3.14053092e-01,   4.94111384e+02,\n",
       "          4.30147189e-01,  -2.09667239e+00,   5.85035180e+00,\n",
       "          3.26532146e-01,  -3.86932277e-01,  -6.38185016e+00,\n",
       "          9.69371463e+00,   6.33573456e-02,  -1.60492164e-01,\n",
       "         -1.36577518e-01,   1.15084218e-02,  -7.14792763e-02,\n",
       "          6.50020651e-03]),\n",
       " array([[  2.70137752e+12,   7.44291277e+08,  -1.19711446e+14,\n",
       "          -9.92656577e+09,  -4.31788310e+10,  -1.71159809e+12,\n",
       "          -6.85638422e+10,  -1.71691606e+10,   1.87278016e+12,\n",
       "           9.09619552e+09,   3.10318150e+09,   8.47970794e+10,\n",
       "          -6.72215694e+10,   2.50395540e+11,  -4.00184163e+10,\n",
       "          -4.00945777e+06],\n",
       "        [  7.44291277e+08,   6.87204296e+05,  -3.30062977e+10,\n",
       "          -5.39837558e+06,  -1.91678489e+07,  -5.16960426e+08,\n",
       "          -2.53795542e+07,   9.23024448e+06,   5.87438478e+08,\n",
       "           1.33701784e+07,   2.90878183e+06,  -3.32690677e+07,\n",
       "           7.60260963e+06,   1.27428736e+08,   4.81834469e+07,\n",
       "          -3.59828188e+03],\n",
       "        [ -1.19711446e+14,  -3.30062977e+10,   8.54917840e+15,\n",
       "          -3.27184838e+11,  -3.27807096e+12,   7.53403674e+13,\n",
       "           3.28954690e+12,   2.60448487e+11,  -7.83521248e+13,\n",
       "           1.13760105e+12,  -5.63293543e+10,  -1.00660450e+13,\n",
       "           7.43644525e+12,  -7.05179655e+12,   7.89689135e+12,\n",
       "           7.33111206e+07],\n",
       "        [ -9.92656577e+09,  -5.39837558e+06,  -3.27184838e+11,\n",
       "           2.37123897e+08,   1.44009142e+09,   6.72710784e+09,\n",
       "           1.92126206e+08,   1.68006004e+08,  -8.51874571e+09,\n",
       "          -4.86470010e+08,  -4.51786062e+07,   1.32803009e+09,\n",
       "          -8.52869209e+08,  -2.02802625e+09,  -1.45006337e+09,\n",
       "           5.52475236e+04],\n",
       "        [ -4.31788310e+10,  -1.91678489e+07,  -3.27807096e+12,\n",
       "           1.44009142e+09,   9.14893455e+09,   2.90579522e+10,\n",
       "           6.83756778e+08,   1.05444720e+09,  -3.88744328e+10,\n",
       "          -2.86120251e+09,  -2.20253451e+08,   9.10429600e+09,\n",
       "          -6.16028666e+09,  -1.08472372e+10,  -9.52429170e+09,\n",
       "           2.74981557e+05],\n",
       "        [ -1.71159809e+12,  -5.16960426e+08,   7.53403674e+13,\n",
       "           6.72710784e+09,   2.90579522e+10,   1.08979310e+12,\n",
       "           4.34845797e+10,   1.05719766e+10,  -1.19609467e+12,\n",
       "          -7.42364907e+09,  -2.21765629e+09,  -4.99285250e+10,\n",
       "           4.09452897e+10,  -1.62208903e+11,   2.15324740e+10,\n",
       "           2.82011588e+06],\n",
       "        [ -6.85638422e+10,  -2.53795542e+07,   3.28954690e+12,\n",
       "           1.92126206e+08,   6.83756778e+08,   4.34845797e+10,\n",
       "           3.62405883e+09,  -2.83745546e+09,  -4.39286876e+10,\n",
       "           1.08322162e+09,  -6.04065473e+06,   1.20089347e+09,\n",
       "           5.51030065e+08,  -1.17948628e+10,  -3.14046652e+09,\n",
       "           7.28285647e+04],\n",
       "        [ -1.71691606e+10,   9.23024448e+06,   2.60448487e+11,\n",
       "           1.68006004e+08,   1.05444720e+09,   1.05719766e+10,\n",
       "          -2.83745546e+09,   5.85606018e+09,  -1.80110412e+10,\n",
       "          -2.35714431e+09,  -1.39721426e+08,  -6.49792041e+09,\n",
       "           2.36617384e+09,   8.86375974e+09,   7.57845397e+09,\n",
       "           6.64381897e+04],\n",
       "        [  1.87278016e+12,   5.87438478e+08,  -7.83521248e+13,\n",
       "          -8.51874571e+09,  -3.88744328e+10,  -1.19609467e+12,\n",
       "          -4.39286876e+10,  -1.80110412e+10,   1.35248433e+12,\n",
       "           2.15787227e+10,   3.41087706e+09,   1.09254531e+10,\n",
       "          -1.45103879e+10,   2.00990342e+11,   1.82568579e+10,\n",
       "          -3.88290058e+06],\n",
       "        [  9.09619552e+09,   1.33701784e+07,   1.13760105e+12,\n",
       "          -4.86470010e+08,  -2.86120251e+09,  -7.42364907e+09,\n",
       "           1.08322162e+09,  -2.35714431e+09,   2.15787227e+10,\n",
       "           4.64382913e+09,   3.55906169e+08,  -1.40780807e+10,\n",
       "           9.74539843e+09,   8.38035844e+09,   1.35615983e+10,\n",
       "          -3.00506884e+05],\n",
       "        [  3.10318150e+09,   2.90878183e+06,  -5.63293543e+10,\n",
       "          -4.51786062e+07,  -2.20253451e+08,  -2.21765629e+09,\n",
       "          -6.04065473e+06,  -1.39721426e+08,   3.41087706e+09,\n",
       "           3.55906169e+08,   3.34169641e+07,  -1.00417161e+09,\n",
       "           6.48188014e+08,   9.42531099e+08,   1.01754907e+09,\n",
       "          -3.11368083e+04],\n",
       "        [  8.47970794e+10,  -3.32690677e+07,  -1.00660450e+13,\n",
       "           1.32803009e+09,   9.10429600e+09,  -4.99285250e+10,\n",
       "           1.20089347e+09,  -6.49792041e+09,   1.09254531e+10,\n",
       "          -1.40780807e+10,  -1.00417161e+09,   9.16297172e+10,\n",
       "          -5.75080472e+10,  -6.49260902e+10,  -9.08102049e+10,\n",
       "           9.19414962e+05],\n",
       "        [ -6.72215694e+10,   7.60260963e+06,   7.43644525e+12,\n",
       "          -8.52869209e+08,  -6.16028666e+09,   4.09452897e+10,\n",
       "           5.51030065e+08,   2.36617384e+09,  -1.45103879e+10,\n",
       "           9.74539843e+09,   6.48188014e+08,  -5.75080472e+10,\n",
       "           3.71152729e+10,   3.51830437e+10,   5.64168926e+10,\n",
       "          -5.61728678e+05],\n",
       "        [  2.50395540e+11,   1.27428736e+08,  -7.05179655e+12,\n",
       "          -2.02802625e+09,  -1.08472372e+10,  -1.62208903e+11,\n",
       "          -1.17948628e+10,   8.86375974e+09,   2.00990342e+11,\n",
       "           8.38035844e+09,   9.42531099e+08,  -6.49260902e+10,\n",
       "           3.51830437e+10,   1.05184289e+11,   7.01340495e+10,\n",
       "          -1.08177776e+06],\n",
       "        [ -4.00184163e+10,   4.81834469e+07,   7.89689135e+12,\n",
       "          -1.45006337e+09,  -9.52429170e+09,   2.15324740e+10,\n",
       "          -3.14046652e+09,   7.57845397e+09,   1.82568579e+10,\n",
       "           1.35615983e+10,   1.01754907e+09,  -9.08102049e+10,\n",
       "           5.64168926e+10,   7.01340495e+10,   9.11062090e+10,\n",
       "          -9.66530329e+05],\n",
       "        [ -4.00945777e+06,  -3.59828188e+03,   7.33111206e+07,\n",
       "           5.52475236e+04,   2.74981557e+05,   2.82011588e+06,\n",
       "           7.28285647e+04,   6.64381897e+04,  -3.88290058e+06,\n",
       "          -3.00506884e+05,  -3.11368083e+04,   9.19414962e+05,\n",
       "          -5.61728678e+05,  -1.08177776e+06,  -9.66530329e+05,\n",
       "           3.15822473e+01]]))"
      ]
     },
     "execution_count": 117,
     "metadata": {},
     "output_type": "execute_result"
    }
   ],
   "source": [
    "sopt.curve_fit(fitAlphas, x, y,\\\n",
    "p0 = p1Test, bounds=(-20,700), max_nfev=10000, check_finite=False)"
   ]
  },
  {
   "cell_type": "code",
   "execution_count": 121,
   "metadata": {
    "collapsed": false
   },
   "outputs": [
    {
     "data": {
      "text/plain": [
       "(-5, 5)"
      ]
     },
     "execution_count": 121,
     "metadata": {},
     "output_type": "execute_result"
    },
    {
     "data": {
      "image/png": "[encoded data removed]",
      "text/plain": [
       "<matplotlib.figure.Figure at 0x10b44e250>"
      ]
     },
     "metadata": {},
     "output_type": "display_data"
    }
   ],
   "source": [
    "plt.plot(x, y, 'bo', defs.omega_dip, fitAlphas(defs.omega_dip, -9.81535494e+00,   3.14053092e-01,   4.94111384e+02,\n",
    "          4.30147189e-01,  -2.09667239e+00,   5.85035180e+00,\n",
    "          3.26532146e-01,  -3.86932277e-01,  -6.38185016e+00,\n",
    "          9.69371463e+00,   6.33573456e-02,  -1.60492164e-01,\n",
    "         -1.36577518e-01,   1.15084218e-02,  -7.14792763e-02,\n",
    "          6.50020651e-03), 'r-')\n",
    "\n",
    "pylab.ylim([-5, 5])"
   ]
  },
  {
   "cell_type": "code",
   "execution_count": 139,
   "metadata": {
    "collapsed": true
   },
   "outputs": [],
   "source": [
    "p3Test = np.array([ -0.01956734,  0.02145062, -0.01933696,  0.0273922 ,  0.0248392 ,\n",
    "        -0.0193655 ,  0.00077674,  0.0282453 ,  0.005358  ,  0.02311487,\n",
    "         0.02514786,  0.005358  ,  0.02311487,  0.02514786,  0.00500655])"
   ]
  },
  {
   "cell_type": "code",
   "execution_count": 155,
   "metadata": {
    "collapsed": false
   },
   "outputs": [
    {
     "data": {
      "text/plain": [
       "[<matplotlib.lines.Line2D at 0x10c48ed50>,\n",
       " <matplotlib.lines.Line2D at 0x10b21e4d0>]"
      ]
     },
     "execution_count": 155,
     "metadata": {},
     "output_type": "execute_result"
    },
    {
     "data": {
      "image/png": "[encoded data removed]",
      "text/plain": [
       "<matplotlib.figure.Figure at 0x10c242c90>"
      ]
     },
     "metadata": {},
     "output_type": "display_data"
    }
   ],
   "source": [
    "plt.plot(defs.omega_dip, defs.dip_1, defs.omega_dip, alphaOne(defs.omega_dip, -5.34219701,   0.38106375,\\\n",
    "20., 1.12715046, 0.04013964,   4.44662264))"
   ]
  },
  {
   "cell_type": "code",
   "execution_count": 154,
   "metadata": {
    "collapsed": false
   },
   "outputs": [
    {
     "data": {
      "text/plain": [
       "(array([ -5.34219701,   0.38106375,  20.        ,   1.12715046,\n",
       "          0.04013964,   4.44662264]),\n",
       " array([[  1.82825193e-02,   2.67261237e-04,  -1.48562970e-01,\n",
       "           5.87190139e-03,   4.72644749e-03,  -7.20523402e-03],\n",
       "        [  2.67261237e-04,   3.92951039e-06,  -2.14792362e-03,\n",
       "           8.42516208e-05,   6.79933651e-05,  -1.07030958e-04],\n",
       "        [ -1.48562970e-01,  -2.14792362e-03,   1.23560740e+00,\n",
       "          -4.97138956e-02,  -3.97433390e-02,   5.61941310e-02],\n",
       "        [  5.87190139e-03,   8.42516208e-05,  -4.97138956e-02,\n",
       "           2.03066617e-03,   1.61294064e-03,  -2.13520957e-03],\n",
       "        [  4.72644749e-03,   6.79933651e-05,  -3.97433390e-02,\n",
       "           1.61294064e-03,   1.28502589e-03,  -1.74983943e-03],\n",
       "        [ -7.20523402e-03,  -1.07030958e-04,   5.61941310e-02,\n",
       "          -2.13520957e-03,  -1.74983943e-03,   3.08748223e-03]]))"
      ]
     },
     "execution_count": 154,
     "metadata": {},
     "output_type": "execute_result"
    }
   ],
   "source": [
    "sopt.curve_fit(alphaOne, defs.omega_dip, defs.dip_1,\\\n",
    "bounds=(-20,20), max_nfev=100000, check_finite=False)"
   ]
  },
  {
   "cell_type": "code",
   "execution_count": 157,
   "metadata": {
    "collapsed": false
   },
   "outputs": [
    {
     "data": {
      "text/plain": [
       "[<matplotlib.lines.Line2D at 0x10b599610>,\n",
       " <matplotlib.lines.Line2D at 0x10b101f50>]"
      ]
     },
     "execution_count": 157,
     "metadata": {},
     "output_type": "execute_result"
    },
    {
     "data": {
      "image/png": "[encoded data removed]",
      "text/plain": [
       "<matplotlib.figure.Figure at 0x10c287290>"
      ]
     },
     "metadata": {},
     "output_type": "display_data"
    }
   ],
   "source": [
    "plt.plot(defs.omega_dip, defs.dip_3, defs.omega_dip, alphaThree(defs.omega_dip, 0.28827102,   0.50608643, -20.        ,   0.69344095,\n",
    "         -1.43652245, -20.        ,   7.51595648,   0.02817311,  -0.20923299))"
   ]
  },
  {
   "cell_type": "code",
   "execution_count": 156,
   "metadata": {
    "collapsed": false
   },
   "outputs": [
    {
     "data": {
      "text/plain": [
       "(array([  0.28827102,   0.50608643, -20.        ,   0.69344095,\n",
       "         -1.43652245, -20.        ,   7.51595648,   0.02817311,  -0.20923299]),\n",
       " array([[  1.38916404e-04,  -1.13164086e-05,   1.03262457e-01,\n",
       "           6.37457523e-04,   2.77222327e-03,  -6.38068696e-02,\n",
       "          -7.27842690e-03,  -5.81574243e-04,  -1.04447808e-04],\n",
       "        [ -1.13164086e-05,   9.26711382e-07,  -7.47112847e-03,\n",
       "          -4.46627371e-05,  -1.99297704e-04,   5.07102074e-03,\n",
       "           5.74385824e-04,   4.61103242e-05,   8.42455497e-06],\n",
       "        [  1.03262457e-01,  -7.47112847e-03,   5.57971961e+02,\n",
       "           4.28766187e+00,   1.58037502e+01,  -8.96514872e+01,\n",
       "          -1.18938646e+01,  -8.44494991e-01,  -1.27746953e-01],\n",
       "        [  6.37457523e-04,  -4.46627371e-05,   4.28766187e+00,\n",
       "           3.31894130e-02,   1.21706714e-01,  -6.23026459e-01,\n",
       "          -8.41258436e-02,  -5.88776858e-03,  -8.79805512e-04],\n",
       "        [  2.77222327e-03,  -1.99297704e-04,   1.58037502e+01,\n",
       "           1.21706714e-01,   4.47927478e-01,  -2.47141608e+00,\n",
       "          -3.29257287e-01,  -2.32937817e-02,  -3.52121722e-03],\n",
       "        [ -6.38068696e-02,   5.07102074e-03,  -8.96514872e+01,\n",
       "          -6.23026459e-01,  -2.47141608e+00,   3.38076702e+01,\n",
       "           4.02268646e+00,   3.11731560e-01,   5.20311845e-02],\n",
       "        [ -7.27842690e-03,   5.74385824e-04,  -1.18938646e+01,\n",
       "          -8.41258436e-02,  -3.29257287e-01,   4.02268646e+00,\n",
       "           4.84329561e-01,   3.72052994e-02,   6.09579035e-03],\n",
       "        [ -5.81574243e-04,   4.61103242e-05,  -8.44494991e-01,\n",
       "          -5.88776858e-03,  -2.32937817e-02,   3.11731560e-01,\n",
       "           3.72052994e-02,   2.87752841e-03,   4.76483032e-04],\n",
       "        [ -1.04447808e-04,   8.42455497e-06,  -1.27746953e-01,\n",
       "          -8.79805512e-04,  -3.52121722e-03,   5.20311845e-02,\n",
       "           6.09579035e-03,   4.76483032e-04,   8.40816027e-05]]))"
      ]
     },
     "execution_count": 156,
     "metadata": {},
     "output_type": "execute_result"
    }
   ],
   "source": [
    "sopt.curve_fit(alphaThree, defs.omega_dip, defs.dip_3,\\\n",
    "bounds=(-20,20), max_nfev=100000, check_finite=False)"
   ]
  },
  {
   "cell_type": "code",
   "execution_count": 160,
   "metadata": {
    "collapsed": false
   },
   "outputs": [
    {
     "data": {
      "text/plain": [
       "(-5, 5)"
      ]
     },
     "execution_count": 160,
     "metadata": {},
     "output_type": "execute_result"
    },
    {
     "data": {
      "image/png": "[encoded data removed]",
      "text/plain": [
       "<matplotlib.figure.Figure at 0x10b78e590>"
      ]
     },
     "metadata": {},
     "output_type": "display_data"
    }
   ],
   "source": [
    "plt.plot(x, y, 'bo', defs.omega_dip, fitAlphas(defs.omega_dip,  -5.34219701,   0.38106375,\\\n",
    "20., 1.12715046, 0.04013964,   4.44662264,\n",
    "           0.28827102,   0.50608643, -20.        ,   0.69344095,\n",
    "         -1.43652245, -20.        ,   7.51595648,   0.02817311,  -0.20923299, 6.50020651e-03), 'r-')\n",
    "\n",
    "pylab.ylim([-5, 5])"
   ]
  },
  {
   "cell_type": "code",
   "execution_count": null,
   "metadata": {
    "collapsed": true
   },
   "outputs": [],
   "source": []
  }
 ],
 "metadata": {
  "kernelspec": {
   "display_name": "Python 2",
   "language": "python",
   "name": "python2"
  },
  "language_info": {
   "codemirror_mode": {
    "name": "ipython",
    "version": 2
   },
   "file_extension": ".py",
   "mimetype": "text/x-python",
   "name": "python",
   "nbconvert_exporter": "python",
   "pygments_lexer": "ipython2",
   "version": "2.7.11"
  }
 },
 "nbformat": 4,
 "nbformat_minor": 0
}
