{
 "cells": [
  {
   "cell_type": "code",
   "execution_count": 1,
   "metadata": {
    "collapsed": false
   },
   "outputs": [
    {
     "name": "stdout",
     "output_type": "stream",
     "text": [
      "(1.26486610172+0j)\n",
      "(0.0250573810079+0j)\n",
      "(0.399118108981+1.42372768654e-16j)\n",
      "(-0.252536582211-5.41536287024e-18j)\n"
     ]
    }
   ],
   "source": [
    "import numpy as np\n",
    "import definitionsFits as defs\n",
    "import matplotlib.pyplot as plt\n",
    "import cmath\n",
    "import os\n",
    "import scipy.special as spcl\n",
    "import pylab as plb\n",
    "import twoPhotonDipole as dipole\n",
    "import defsDipole\n",
    "import scipy.optimize as sopt\n",
    "\n",
    "%matplotlib inline\n"
   ]
  },
  {
   "cell_type": "code",
   "execution_count": 2,
   "metadata": {
    "collapsed": true
   },
   "outputs": [],
   "source": [
    "omega = np.arange(0.5, 1.2, 0.005)\n",
    "m = range(1, 3)\n",
    "E_0 = -1.1591\n",
    "E_m = [-0.8502, -0.3278, -0.1665]\n",
    "alpha = 0.006\n",
    "T = 3/0.02419\n",
    "\n",
    "Path = '/Users/cgoldsmith/Desktop/text_files_data'\n",
    "    # os.chdir(Path)\n",
    "omega_dip=np.zeros(2000)\n",
    "i=0\n",
    "with open(Path+'/omega4dip.txt') as infile:\n",
    "    for line in infile:\n",
    "        omega_dip[i]=(line.split()[0])\n",
    "        i=i+1\n",
    "\n",
    "dip_1=np.zeros(np.size(omega_dip))\n",
    "i=0\n",
    "with open(Path + '/alpha1_3fs.txt') as infile:\n",
    "    for line in infile:\n",
    "        dip_1[i]=(line.split()[0])\n",
    "        i=i+1    \n",
    "\n",
    "dip_3=np.zeros(np.size(omega_dip))\n",
    "i=0\n",
    "with open(Path + '/alpha3_3fs.txt') as infile:\n",
    "    for line in infile:\n",
    "        dip_3[i]=(line.split()[0])\n",
    "        i=i+1       \n",
    "\n",
    "delta_m = np.zeros(np.size(E_m))\n",
    "for j in m:\n",
    "    delta_m[j] = E_m[j] - E_0"
   ]
  },
  {
   "cell_type": "code",
   "execution_count": 3,
   "metadata": {
    "collapsed": true
   },
   "outputs": [],
   "source": [
    "Path = '/Users/cgoldsmith/repos/delayFitting/Data/eigenstates/wavefxCalc__2'\n",
    "os.chdir(Path)\n",
    "\n",
    "m = range(1, 3)\n",
    "E_0 = -1.1591\n",
    "E_m = [-0.8502, -0.3278, -0.1665]\n",
    "\n",
    "omegaAU = 1.15\n",
    "\n",
    "wfsize = 0\n",
    "\n",
    "\n",
    "with open('wf1D0.txt') as infile:\n",
    "\tfor line in infile:\n",
    "\t\trow = (line.split())[0]\n",
    "\t\twfsize = wfsize + 1\n",
    "\n",
    "z = np.zeros(wfsize)\n",
    "wf0 = np.zeros(wfsize)\n",
    "wf1 = np.zeros(wfsize)\n",
    "wf2 = np.zeros(wfsize)\n",
    "wf3 = np.zeros(wfsize)\n",
    "planeWaveTest = np.zeros(wfsize, 'complex')\n",
    "zRealPlaneWave = np.zeros(wfsize)\n",
    "zImagPlaneWave = np.zeros(wfsize)\n",
    "\n",
    "i = 0\n",
    "with open('wf1D0.txt') as infile:\n",
    "\tfor line in infile:\n",
    "\t\tz[i] = (line.split())[0]\n",
    "\t\twf0[i] = (line.split())[1]\n",
    "\t\ti = i + 1\n",
    "\n",
    "i = 0\n",
    "with open('wf1D1.txt') as infile:\n",
    "\tfor line in infile:\n",
    "\t\twf1[i] = (line.split())[1]\n",
    "\t\ti = i + 1\n",
    "\n",
    "i = 0\n",
    "with open('wf1D2.txt') as infile:\n",
    "\tfor line in infile:\n",
    "\t\twf2[i] = (line.split())[1]\n",
    "\t\ti = i + 1\n",
    "\n",
    "i = 0\n",
    "with open('wf1D3.txt') as infile:\n",
    "\tfor line in infile:\n",
    "\t\twf3[i] = (line.split())[1]\n",
    "\t\ti = i + 1\n"
   ]
  },
  {
   "cell_type": "code",
   "execution_count": 4,
   "metadata": {
    "collapsed": false
   },
   "outputs": [
    {
     "data": {
      "text/plain": [
       "[<matplotlib.lines.Line2D at 0x105e216d0>,\n",
       " <matplotlib.lines.Line2D at 0x108ee0210>]"
      ]
     },
     "execution_count": 4,
     "metadata": {},
     "output_type": "execute_result"
    },
    {
     "data": {
      "image/png": "[encoded data removed]",
      "text/plain": [
       "<matplotlib.figure.Figure at 0x105e00c90>"
      ]
     },
     "metadata": {},
     "output_type": "display_data"
    }
   ],
   "source": [
    "plt.plot(omega_dip, dip_1, omega_dip, dip_3)"
   ]
  },
  {
   "cell_type": "code",
   "execution_count": 5,
   "metadata": {
    "collapsed": false
   },
   "outputs": [],
   "source": [
    "oneVsOmega = np.zeros(np.size(omega_dip), 'complex')\n",
    "threeVsOmega = np.zeros(np.size(omega_dip), 'complex')\n",
    "i = 0\n",
    "for omega in omega_dip:\n",
    "    oneVsOmega[i] = dipole.constructDipole(omega, wf1)\n",
    "    threeVsOmega[i] = dipole.constructDipole(omega, wf3)\n",
    "    i = i + 1"
   ]
  },
  {
   "cell_type": "code",
   "execution_count": 6,
   "metadata": {
    "collapsed": false
   },
   "outputs": [
    {
     "data": {
      "text/plain": [
       "[<matplotlib.lines.Line2D at 0x10905b150>,\n",
       " <matplotlib.lines.Line2D at 0x10915c1d0>]"
      ]
     },
     "execution_count": 6,
     "metadata": {},
     "output_type": "execute_result"
    },
    {
     "data": {
      "image/png": "[encoded data removed]",
      "text/plain": [
       "<matplotlib.figure.Figure at 0x108e86b90>"
      ]
     },
     "metadata": {},
     "output_type": "display_data"
    }
   ],
   "source": [
    "plt.plot(omega_dip, dip_1, omega_dip, np.real(oneVsOmega))"
   ]
  },
  {
   "cell_type": "code",
   "execution_count": 7,
   "metadata": {
    "collapsed": false
   },
   "outputs": [
    {
     "data": {
      "text/plain": [
       "[<matplotlib.lines.Line2D at 0x109191ed0>,\n",
       " <matplotlib.lines.Line2D at 0x1092a91d0>]"
      ]
     },
     "execution_count": 7,
     "metadata": {},
     "output_type": "execute_result"
    },
    {
     "data": {
      "image/png": "[encoded data removed]",
      "text/plain": [
       "<matplotlib.figure.Figure at 0x108d80e90>"
      ]
     },
     "metadata": {},
     "output_type": "display_data"
    }
   ],
   "source": [
    "plt.plot(omega_dip, dip_3, omega_dip, np.real(threeVsOmega))"
   ]
  },
  {
   "cell_type": "code",
   "execution_count": null,
   "metadata": {
    "collapsed": false
   },
   "outputs": [],
   "source": [
    "defsDipole.getk(1.0, defsDipole.E_0)"
   ]
  },
  {
   "cell_type": "code",
   "execution_count": null,
   "metadata": {
    "collapsed": false
   },
   "outputs": [],
   "source": [
    "np.sqrt(2*(2-1.1591))"
   ]
  },
  {
   "cell_type": "code",
   "execution_count": 8,
   "metadata": {
    "collapsed": false
   },
   "outputs": [
    {
     "data": {
      "text/plain": [
       "[<matplotlib.lines.Line2D at 0x1092e30d0>,\n",
       " <matplotlib.lines.Line2D at 0x1093bfd50>]"
      ]
     },
     "execution_count": 8,
     "metadata": {},
     "output_type": "execute_result"
    },
    {
     "data": {
      "image/png": "[encoded data removed]",
      "text/plain": [
       "<matplotlib.figure.Figure at 0x10925c950>"
      ]
     },
     "metadata": {},
     "output_type": "display_data"
    }
   ],
   "source": [
    "plt.plot(omega_dip, np.real(oneVsOmega), omega_dip, np.real(threeVsOmega))"
   ]
  },
  {
   "cell_type": "code",
   "execution_count": null,
   "metadata": {
    "collapsed": true
   },
   "outputs": [],
   "source": [
    "E_0 = -1.1591\n",
    "E_m = [-0.8502, -0.3278, -0.1665]\n",
    "T = 3/0.02419\n",
    "delta_m = np.zeros(np.size(E_m))\n",
    "for j in (0, 1, 2):\n",
    "    delta_m[j] = E_m[j] - E_0\n",
    "optSize = np.size(omegaF)\n",
    "alpha1f = np.zeros(optSize, 'complex')\n",
    "alpha3f = np.zeros(optSize, 'complex')\n",
    "omegaV = np.zeros(optSize)\n",
    "realFactor = np.zeros(optSize, 'complex')\n",
    "imagFactor = np.zeros(optSize, 'complex')\n",
    "i = 0\n",
    "T = 3 / 0.02419\n",
    "\n",
    "for x in omegaF:\n",
    "    omegaV[i] = x\n",
    "# alpha1f[i] = m1*x + c_1#constructDipole(x, defs.wf1) + c_1\n",
    "# alpha3f[i] = m3*x + c_3#constructDipole(x, defs.wf3) + c_3\n",
    "\talpha1f[i] = dipole.constructDipole(x, defsDipole.wf1)\n",
    "\talpha3f[i] = dipole.constructDipole(x, defsDipole.wf3)\n",
    "\ti = i + 1"
   ]
  },
  {
   "cell_type": "code",
   "execution_count": 16,
   "metadata": {
    "collapsed": true
   },
   "outputs": [],
   "source": [
    "def fitDipoleFactors(omegaF, free):\n",
    "\t\n",
    "\t\n",
    "\n",
    "\n",
    "\t# print \"Dipoles Calc'd\"\n",
    "\n",
    "\tdawsArg1st = T*(delta_m[0] - omegaV)\n",
    "\tdawsArg3rd = T*(delta_m[1] - omegaV)\n",
    "\n",
    "\trealFactor = (alpha1f * np.exp(-np.power(dawsArg1st,2.0)))\\\n",
    "\t\t\t\t\t+ (alpha3f * np.exp(-np.power(dawsArg3rd, 2.0)))\n",
    "\n",
    "\timagFactor = (alpha1f * ((-2 * cmath.sqrt(-1))\\\n",
    "\t\t\t\t\t/ (np.sqrt(np.pi))) * spcl.dawsn(np.sqrt(free)*dawsArg1st))\\\n",
    "\t\t\t\t\t\t+ (alpha3f * ((-2 * cmath.sqrt(-1))\\\n",
    "\t\t\t\t\t\t\t/ (np.sqrt(np.pi))) * spcl.dawsn(np.sqrt(free)*dawsArg3rd))\n",
    "\n",
    "\tdomegaV = np.gradient(omegaV)\n",
    "\tphase_fit = np.arctan(np.imag(imagFactor)/np.real(realFactor))\n",
    "\n",
    "\tdphi_fit = np.gradient(phase_fit, domegaV)\n",
    "\t# print \"dPhi calc'd\"\n",
    "\n",
    "\t#return omegaV\n",
    "\treturn dphi_fit"
   ]
  },
  {
   "cell_type": "code",
   "execution_count": 17,
   "metadata": {
    "collapsed": false
   },
   "outputs": [
    {
     "name": "stderr",
     "output_type": "stream",
     "text": [
      "/Users/cgoldsmith/anaconda/lib/python2.7/site-packages/ipykernel/__main__.py:34: RuntimeWarning: divide by zero encountered in divide\n",
      "/Users/cgoldsmith/anaconda/lib/python2.7/site-packages/ipykernel/__main__.py:34: RuntimeWarning: overflow encountered in divide\n"
     ]
    },
    {
     "data": {
      "text/plain": [
       "(array([ 700.]), array([[ 9565004.88808184]]))"
      ]
     },
     "execution_count": 17,
     "metadata": {},
     "output_type": "execute_result"
    }
   ],
   "source": [
    "Path = '/Users/cgoldsmith/Desktop/text_files_data'\n",
    "os.chdir(Path)\n",
    "data = np.loadtxt('TDSE_3fs.txt')\n",
    "x = data[:, 0]\n",
    "y = data[:, 4]\n",
    "sopt.curve_fit(fitDipoleFactors, x, y,\\\n",
    " bounds=(-20,700), max_nfev=10000, check_finite=False)"
   ]
  },
  {
   "cell_type": "code",
   "execution_count": 19,
   "metadata": {
    "collapsed": false
   },
   "outputs": [
    {
     "name": "stderr",
     "output_type": "stream",
     "text": [
      "/Users/cgoldsmith/anaconda/lib/python2.7/site-packages/ipykernel/__main__.py:34: RuntimeWarning: divide by zero encountered in divide\n",
      "/Users/cgoldsmith/anaconda/lib/python2.7/site-packages/ipykernel/__main__.py:34: RuntimeWarning: overflow encountered in divide\n"
     ]
    },
    {
     "data": {
      "text/plain": [
       "(-10, 10)"
      ]
     },
     "execution_count": 19,
     "metadata": {},
     "output_type": "execute_result"
    },
    {
     "data": {
      "image/png": "[encoded data removed]",
      "text/plain": [
       "<matplotlib.figure.Figure at 0x1093eecd0>"
      ]
     },
     "metadata": {},
     "output_type": "display_data"
    }
   ],
   "source": [
    "test1 = fitDipoleFactors(omega_dip, 700)\n"
   ]
  },
  {
   "cell_type": "code",
   "execution_count": 20,
   "metadata": {
    "collapsed": false
   },
   "outputs": [
    {
     "data": {
      "text/plain": [
       "(-10, 10)"
      ]
     },
     "execution_count": 20,
     "metadata": {},
     "output_type": "execute_result"
    },
    {
     "data": {
      "image/png": "[encoded data removed]",
      "text/plain": [
       "<matplotlib.figure.Figure at 0x109798790>"
      ]
     },
     "metadata": {},
     "output_type": "display_data"
    }
   ],
   "source": [
    "plt.plot(x, y, omega_dip, test1)\n",
    "plb.ylim([-10, 10])"
   ]
  },
  {
   "cell_type": "code",
   "execution_count": null,
   "metadata": {
    "collapsed": true
   },
   "outputs": [],
   "source": []
  }
 ],
 "metadata": {
  "kernelspec": {
   "display_name": "Python 2",
   "language": "python",
   "name": "python2"
  },
  "language_info": {
   "codemirror_mode": {
    "name": "ipython",
    "version": 2
   },
   "file_extension": ".py",
   "mimetype": "text/x-python",
   "name": "python",
   "nbconvert_exporter": "python",
   "pygments_lexer": "ipython2",
   "version": "2.7.11"
  }
 },
 "nbformat": 4,
 "nbformat_minor": 0
}
