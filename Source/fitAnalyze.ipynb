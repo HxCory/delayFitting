{
 "cells": [
  {
   "cell_type": "code",
   "execution_count": null,
   "metadata": {
    "collapsed": false
   },
   "outputs": [],
   "source": [
    "import numpy as np\n",
    "import definitionsFits as defs\n",
    "import matplotlib.pyplot as plt\n",
    "import cmath\n",
    "import os\n",
    "import scipy.special as spcl\n",
    "import pylab as plb\n",
    "import twoPhotonDipole as dipole\n",
    "import defsDipole as defs\n",
    "\n",
    "%matplotlib inline"
   ]
  },
  {
   "cell_type": "code",
   "execution_count": null,
   "metadata": {
    "collapsed": true
   },
   "outputs": [],
   "source": [
    "omega = np.arange(0.5, 1.2, 0.005)\n",
    "m = range(1, 3)\n",
    "E_0 = -1.1591\n",
    "E_m = [-0.8502, -0.3278, -0.1665]\n",
    "alpha = 0.006\n",
    "T = 3/0.02419\n",
    "\n",
    "Path = '/Users/cgoldsmith/Desktop/text_files_data'\n",
    "    # os.chdir(Path)\n",
    "omega_dip=np.zeros(2000)\n",
    "i=0\n",
    "with open(Path+'/omega4dip.txt') as infile:\n",
    "    for line in infile:\n",
    "        omega_dip[i]=(line.split()[0])\n",
    "        i=i+1\n",
    "\n",
    "dip_1=np.zeros(np.size(omega_dip))\n",
    "i=0\n",
    "with open(Path + '/alpha1_3fs.txt') as infile:\n",
    "    for line in infile:\n",
    "        dip_1[i]=(line.split()[0])\n",
    "        i=i+1    \n",
    "\n",
    "dip_3=np.zeros(np.size(omega_dip))\n",
    "i=0\n",
    "with open(Path + '/alpha3_3fs.txt') as infile:\n",
    "    for line in infile:\n",
    "        dip_3[i]=(line.split()[0])\n",
    "        i=i+1       \n",
    "\n",
    "delta_m = np.zeros(np.size(E_m))\n",
    "for j in m:\n",
    "    delta_m[j] = E_m[j] - E_0"
   ]
  },
  {
   "cell_type": "code",
   "execution_count": null,
   "metadata": {
    "collapsed": true
   },
   "outputs": [],
   "source": [
    "Path = '/Users/cgoldsmith/repos/delayFitting/Data/eigenstates/wavefxCalc__2'\n",
    "os.chdir(Path)\n",
    "\n",
    "m = range(1, 3)\n",
    "E_0 = -1.1591\n",
    "E_m = [-0.8502, -0.3278, -0.1665]\n",
    "\n",
    "omegaAU = 1.15\n",
    "\n",
    "wfsize = 0\n",
    "\n",
    "\n",
    "with open('wf1D0.txt') as infile:\n",
    "\tfor line in infile:\n",
    "\t\trow = (line.split())[0]\n",
    "\t\twfsize = wfsize + 1\n",
    "\n",
    "z = np.zeros(wfsize)\n",
    "wf0 = np.zeros(wfsize)\n",
    "wf1 = np.zeros(wfsize)\n",
    "wf2 = np.zeros(wfsize)\n",
    "wf3 = np.zeros(wfsize)\n",
    "planeWaveTest = np.zeros(wfsize, 'complex')\n",
    "zRealPlaneWave = np.zeros(wfsize)\n",
    "zImagPlaneWave = np.zeros(wfsize)\n",
    "\n",
    "i = 0\n",
    "with open('wf1D0.txt') as infile:\n",
    "\tfor line in infile:\n",
    "\t\tz[i] = (line.split())[0]\n",
    "\t\twf0[i] = (line.split())[1]\n",
    "\t\ti = i + 1\n",
    "\n",
    "i = 0\n",
    "with open('wf1D1.txt') as infile:\n",
    "\tfor line in infile:\n",
    "\t\twf1[i] = (line.split())[1]\n",
    "\t\ti = i + 1\n",
    "\n",
    "i = 0\n",
    "with open('wf1D2.txt') as infile:\n",
    "\tfor line in infile:\n",
    "\t\twf2[i] = (line.split())[1]\n",
    "\t\ti = i + 1\n",
    "\n",
    "i = 0\n",
    "with open('wf1D3.txt') as infile:\n",
    "\tfor line in infile:\n",
    "\t\twf3[i] = (line.split())[1]\n",
    "\t\ti = i + 1\n"
   ]
  },
  {
   "cell_type": "code",
   "execution_count": null,
   "metadata": {
    "collapsed": false
   },
   "outputs": [],
   "source": [
    "plt.plot(omega_dip, dip_1, omega_dip, dip_3)"
   ]
  },
  {
   "cell_type": "code",
   "execution_count": null,
   "metadata": {
    "collapsed": false
   },
   "outputs": [],
   "source": [
    "oneVsOmega = np.zeros(np.size(omega_dip), 'complex')\n",
    "threeVsOmega = np.zeros(np.size(omega_dip), 'complex')\n",
    "i = 0\n",
    "for omega in omega_dip:\n",
    "    oneVsOmega[i] = dipole.constructDipole(omega, wf1)\n",
    "    threeVsOmega[i] = dipole.constructDipole(omega, wf3)\n",
    "    i = i + 1"
   ]
  },
  {
   "cell_type": "code",
   "execution_count": null,
   "metadata": {
    "collapsed": false
   },
   "outputs": [],
   "source": [
    "plt.plot(omega_dip, dip_1, omega_dip, np.real(oneVsOmega)*1.26486610172)"
   ]
  },
  {
   "cell_type": "code",
   "execution_count": null,
   "metadata": {
    "collapsed": false
   },
   "outputs": [],
   "source": [
    "plt.plot(omega_dip, dip_3, omega_dip, np.real(threeVsOmega)*0.0250573810079)"
   ]
  },
  {
   "cell_type": "code",
   "execution_count": null,
   "metadata": {
    "collapsed": false
   },
   "outputs": [],
   "source": [
    "defs.getk(1.0, defs.E_0)"
   ]
  },
  {
   "cell_type": "code",
   "execution_count": null,
   "metadata": {
    "collapsed": false
   },
   "outputs": [],
   "source": [
    "np.sqrt(2*(2-1.1591))"
   ]
  },
  {
   "cell_type": "code",
   "execution_count": null,
   "metadata": {
    "collapsed": true
   },
   "outputs": [],
   "source": []
  }
 ],
 "metadata": {
  "kernelspec": {
   "display_name": "Python 2",
   "language": "python",
   "name": "python2"
  },
  "language_info": {
   "codemirror_mode": {
    "name": "ipython",
    "version": 2
   },
   "file_extension": ".py",
   "mimetype": "text/x-python",
   "name": "python",
   "nbconvert_exporter": "python",
   "pygments_lexer": "ipython2",
   "version": "2.7.11"
  }
 },
 "nbformat": 4,
 "nbformat_minor": 0
}
