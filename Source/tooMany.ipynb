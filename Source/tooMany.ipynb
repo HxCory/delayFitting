{
 "cells": [
  {
   "cell_type": "code",
   "execution_count": 96,
   "metadata": {
    "collapsed": true
   },
   "outputs": [],
   "source": [
    "import numpy as np\n",
    "import definitionsFits as defs\n",
    "import matplotlib.pyplot as plt\n",
    "import cmath\n",
    "import os\n",
    "import scipy.special as spcl\n",
    "import pylab\n",
    "import differentFitting as diffFit\n",
    "import scipy.optimize as sopt\n",
    "\n",
    "%matplotlib inline\n",
    "\n",
    "def alphaOne(omega, bA, bB, bC, bD, bE, bF):\n",
    "    termOne = bA / (omega - bB)\n",
    "    termTwo = bC * np.exp(-bD * np.power(omega - bE, 2.0))\n",
    "    return termOne + termTwo + bF\n",
    "\n",
    "def alphaThree(omega, bA, bB, bC, bD, bE, bF, bG, bH, bI):\n",
    "    termOne = bA / (omega - bB)\n",
    "    termTwo = bC * np.exp(-bD * np.power(omega - bE, 2.0))\n",
    "    termThree = bF * np.exp(-bG * np.power(omega - bH, 2.0))\n",
    "    return termOne + termTwo + termThree + bI"
   ]
  },
  {
   "cell_type": "code",
   "execution_count": 97,
   "metadata": {
    "collapsed": false
   },
   "outputs": [
    {
     "data": {
      "text/plain": [
       "(-1, 1)"
      ]
     },
     "execution_count": 97,
     "metadata": {},
     "output_type": "execute_result"
    },
    {
     "data": {
      "image/png": "[encoded data removed]",
      "text/plain": [
       "<matplotlib.figure.Figure at 0x1091c2710>"
      ]
     },
     "metadata": {},
     "output_type": "display_data"
    }
   ],
   "source": [
    "plt.plot(defs.omega_dip, alphaOne(defs.omega_dip,-9.81535556e+00,   3.13975075e-01,   4.94111384e+02,\n",
    "          4.29958163e-01,  -2.09667678e+00,   5.85035181e+00), defs.omega_dip, alphaThree(defs.omega_dip,\\\n",
    "          3.26519717e-01,  -3.86939149e-01,  -6.38185123e+00,\n",
    "          9.69371148e+00,   6.33599497e-02,  -1.60485987e-01,\n",
    "         -1.36571022e-01,   1.15095946e-02,  -7.14781666e-02\n",
    "          ))\n",
    "pylab.ylim([-1, 1])"
   ]
  },
  {
   "cell_type": "code",
   "execution_count": 98,
   "metadata": {
    "collapsed": true
   },
   "outputs": [],
   "source": [
    "def presetAlphas(omegaV, alpha_free):\n",
    "                       \n",
    "    dawsarg_1st = defs.T*(defs.delta_m[0] - omegaV)\n",
    "    dawsarg_3rd = defs.T*(defs.delta_m[1] - omegaV)\n",
    "    alpha1f = alphaOne(defs.omega_dip,-9.81535556e+00,   3.13975075e-01,   4.94111384e+02,\n",
    "          4.29958163e-01,  -2.09667678e+00,   5.85035181e+00)\n",
    "    alpha3f = alphaThree(defs.omega_dip,\\\n",
    "          3.26519717e-01,  -3.86939149e-01,  -6.38185123e+00,\n",
    "          9.69371148e+00,   6.33599497e-02,  -1.60485987e-01,\n",
    "         -1.36571022e-01,   1.15095946e-02,  -7.15781666e-02)\n",
    "          \n",
    "    #     alpha1f = fit_dipoles(omegaV, m_1, b_1)\n",
    "#     alpha3f = fit_dipoles3(omegaV, m_3, b_3)\n",
    "    real_factor = (alpha1f*np.exp(-alpha_free*defs.T*defs.T*(defs.delta_m[0]-omegaV)\\\n",
    "                    *(defs.delta_m[0]-omegaV)))\\\n",
    "                     + (alpha3f * np.exp(-alpha_free* defs.T * defs.T *\\\n",
    "                    (defs.delta_m[1]-omegaV)*(defs.delta_m[1]-omegaV)))\n",
    "    imag_factor = (alpha1f*(-2*cmath.sqrt(-1))/\\\n",
    "        (np.sqrt(np.pi))*spcl.dawsn(np.sqrt(alpha_free)*dawsarg_1st)) + \\\n",
    "            (alpha3f*((-2*cmath.sqrt(-1))/\\\n",
    "                (np.sqrt(np.pi)))*spcl.dawsn(np.sqrt(alpha_free)*dawsarg_3rd))\n",
    "    domegaV = np.gradient(omegaV)\n",
    "    phase_fit = np.arctan(np.imag(imag_factor)/np.real(real_factor))\n",
    "    \n",
    "    dphi_fit = np.gradient(phase_fit, domegaV)\n",
    "    return dphi_fit  \n"
   ]
  },
  {
   "cell_type": "code",
   "execution_count": 99,
   "metadata": {
    "collapsed": false
   },
   "outputs": [],
   "source": [
    "sampleOne = presetAlphas(defs.omega_dip, 5.62392912e-03)"
   ]
  },
  {
   "cell_type": "code",
   "execution_count": 100,
   "metadata": {
    "collapsed": false
   },
   "outputs": [
    {
     "data": {
      "text/plain": [
       "(-10, 10)"
      ]
     },
     "execution_count": 100,
     "metadata": {},
     "output_type": "execute_result"
    },
    {
     "data": {
      "image/png": "[encoded data removed]",
      "text/plain": [
       "<matplotlib.figure.Figure at 0x108f6b250>"
      ]
     },
     "metadata": {},
     "output_type": "display_data"
    }
   ],
   "source": [
    "plt.plot(defs.omega_dip, sampleOne, 'r-', diffFit.x, diffFit.y, 'bo')\n",
    "pylab.ylim([-10, 10])"
   ]
  },
  {
   "cell_type": "code",
   "execution_count": 101,
   "metadata": {
    "collapsed": false
   },
   "outputs": [
    {
     "data": {
      "text/plain": [
       "array([-0.09084962, -0.09085281, -0.09085919, ...,  0.        ,\n",
       "        0.        ,  0.        ])"
      ]
     },
     "execution_count": 101,
     "metadata": {},
     "output_type": "execute_result"
    }
   ],
   "source": [
    "sampleOne"
   ]
  },
  {
   "cell_type": "code",
   "execution_count": 102,
   "metadata": {
    "collapsed": true
   },
   "outputs": [],
   "source": [
    "def fitAlphas(omegaV, b1A, b1B, b1C, b1D, b1E, b1F, \\\n",
    "\t\tb3A, b3B, b3C, b3D, b3E, b3F, b3G, b3H, b3I, alpha_free):                       \n",
    "    dawsarg_1st = defs.T*(defs.delta_m[0] - omegaV)\n",
    "    dawsarg_3rd = defs.T*(defs.delta_m[1] - omegaV)\n",
    "    alpha1f = alphaOne(omegaV, b1A, b1B, b1C, b1D, b1E, b1F)\n",
    "    alpha3f = alphaThree(omegaV, b3A, b3B, b3C, b3D, b3E, b3F, b3G, b3H, b3I)          \n",
    "    real_factor = (alpha1f*np.exp(-alpha_free*defs.T*defs.T*(defs.delta_m[0]-omegaV)\\\n",
    "                    *(defs.delta_m[0]-omegaV)))\\\n",
    "                     + (alpha3f * np.exp(-alpha_free* defs.T * defs.T *\\\n",
    "                    (defs.delta_m[1]-omegaV)*(defs.delta_m[1]-omegaV)))\n",
    "    imag_factor = (alpha1f*(-2*cmath.sqrt(-1))/\\\n",
    "        (np.sqrt(np.pi))*spcl.dawsn(np.sqrt(alpha_free)*dawsarg_1st)) + \\\n",
    "            (alpha3f*((-2*cmath.sqrt(-1))/\\\n",
    "                (np.sqrt(np.pi)))*spcl.dawsn(np.sqrt(alpha_free)*dawsarg_3rd))\n",
    "    domegaV = np.gradient(omegaV)\n",
    "    phase_fit = np.arctan(np.imag(imag_factor)/np.real(real_factor))\n",
    "    \n",
    "    dphi_fit = np.gradient(phase_fit, domegaV)\n",
    "    return dphi_fit "
   ]
  },
  {
   "cell_type": "code",
   "execution_count": 103,
   "metadata": {
    "collapsed": true
   },
   "outputs": [],
   "source": [
    "p0_test = np.array([ -9.81535485e+00,   3.13972797e-01,   4.94111384e+02,\n",
    "          4.29838499e-01,  -2.09667026e+00,   5.85035196e+00,\n",
    "          3.26147227e-01,  -3.87039586e-01,  -6.38185284e+00,\n",
    "          9.69370558e+00,   6.33642758e-02,  -1.60981140e-01,\n",
    "         -1.36624353e-01,   1.14918371e-02,  -7.19300239e-02,\n",
    "          5.58729693e-03])"
   ]
  },
  {
   "cell_type": "code",
   "execution_count": 104,
   "metadata": {
    "collapsed": false
   },
   "outputs": [
    {
     "data": {
      "text/plain": [
       "(array([ -9.81535494e+00,   3.14053010e-01,   4.94111384e+02,\n",
       "          4.30146679e-01,  -2.09667239e+00,   5.85035180e+00,\n",
       "          3.26531315e-01,  -3.86932516e-01,  -6.38185017e+00,\n",
       "          9.69371461e+00,   6.33573641e-02,  -1.60493177e-01,\n",
       "         -1.36577603e-01,   1.15083895e-02,  -7.14802190e-02,\n",
       "          6.49634984e-03]),\n",
       " array([[  1.68776632e+12,   1.94579846e+08,  -2.91183339e+13,\n",
       "          -1.55417830e+10,  -9.60821015e+10,  -1.05132686e+12,\n",
       "           2.19916269e+10,  -1.18901750e+11,   1.36578764e+12,\n",
       "           8.07456266e+10,   5.78973890e+09,  -6.48823409e+10,\n",
       "           5.95452823e+10,   2.55213368e+11,   5.85130949e+10,\n",
       "          -4.96971319e+06],\n",
       "        [  1.94579846e+08,   4.75591057e+05,  -2.60535986e+10,\n",
       "           1.15186533e+06,   1.86295947e+07,  -1.59018465e+08,\n",
       "          -1.10903817e+07,   8.65982821e+06,   1.94523125e+08,\n",
       "           9.61443527e+06,   2.08339106e+06,  -1.57135336e+07,\n",
       "           8.41386300e+06,  -2.46404382e+07,   2.42933235e+07,\n",
       "          -2.25008745e+03],\n",
       "        [ -2.91183339e+13,  -2.60535986e+10,   8.74299918e+15,\n",
       "          -1.60290193e+12,  -1.13291984e+13,   1.82533959e+13,\n",
       "           3.68379268e+12,  -3.98149697e+12,  -1.94053411e+13,\n",
       "           6.76548177e+11,  -8.91231418e+10,   2.36470572e+11,\n",
       "          -8.95277528e+11,   1.55754393e+13,  -2.88778828e+12,\n",
       "           3.15891990e+07],\n",
       "        [ -1.55417830e+10,   1.15186533e+06,  -1.60290193e+12,\n",
       "           5.84907267e+08,   3.88109162e+09,   9.93269532e+09,\n",
       "          -1.15820338e+09,   2.50346567e+09,  -1.39520646e+10,\n",
       "          -1.28015816e+09,  -6.74346205e+07,   7.53450521e+08,\n",
       "          -5.05695932e+08,  -6.97465577e+09,  -5.14082803e+07,\n",
       "           7.06234803e+04],\n",
       "        [ -9.60821015e+10,   1.86295947e+07,  -1.13291984e+13,\n",
       "           3.88109162e+09,   2.60705017e+10,   6.04467847e+10,\n",
       "          -7.75773554e+09,   1.64002502e+10,  -8.55263880e+10,\n",
       "          -8.04940401e+09,  -3.79455593e+08,   4.93777775e+09,\n",
       "          -3.37858297e+09,  -4.62769248e+10,  -1.72135394e+08,\n",
       "           4.03277881e+05],\n",
       "        [ -1.05132686e+12,  -1.59018465e+08,   1.82533959e+13,\n",
       "           9.93269532e+09,   6.04467847e+10,   6.59446418e+11,\n",
       "          -1.40937593e+10,   7.44697749e+10,  -8.57627451e+11,\n",
       "          -5.13140349e+10,  -3.79566250e+09,   3.98529743e+10,\n",
       "          -3.60225678e+10,  -1.59994455e+11,  -3.57060356e+10,\n",
       "           3.30246818e+06],\n",
       "        [  2.19916269e+10,  -1.10903817e+07,   3.68379268e+12,\n",
       "          -1.15820338e+09,  -7.75773554e+09,  -1.40937593e+10,\n",
       "           4.78030510e+09,  -8.34495707e+09,   2.37379258e+10,\n",
       "           3.34999288e+09,   1.65303948e+08,   1.78351624e+09,\n",
       "          -1.18670445e+09,   1.69160782e+10,  -4.63584187e+09,\n",
       "          -1.31563604e+05],\n",
       "        [ -1.18901750e+11,   8.65982821e+06,  -3.98149697e+12,\n",
       "           2.50346567e+09,   1.64002502e+10,   7.44697749e+10,\n",
       "          -8.34495707e+09,   1.87044614e+10,  -1.05415043e+11,\n",
       "          -9.27535666e+09,  -5.47905983e+08,   9.08490085e+08,\n",
       "          -1.56148975e+09,  -3.78543538e+10,   3.70039292e+09,\n",
       "           4.48970099e+05],\n",
       "        [  1.36578764e+12,   1.94523125e+08,  -1.94053411e+13,\n",
       "          -1.39520646e+10,  -8.55263880e+10,  -8.57627451e+11,\n",
       "           2.37379258e+10,  -1.05415043e+11,   1.13450951e+12,\n",
       "           7.34930116e+10,   5.34886556e+09,  -6.40542821e+10,\n",
       "           5.55019576e+10,   2.25980666e+11,   5.55350498e+10,\n",
       "          -4.59673782e+06],\n",
       "        [  8.07456266e+10,   9.61443527e+06,   6.76548177e+11,\n",
       "          -1.28015816e+09,  -8.04940401e+09,  -5.13140349e+10,\n",
       "           3.34999288e+09,  -9.27535666e+09,   7.34930116e+10,\n",
       "           6.46193425e+09,   4.46018085e+08,  -6.87663261e+09,\n",
       "           5.39334787e+09,   2.00694422e+10,   5.22095420e+09,\n",
       "          -3.75598077e+05],\n",
       "        [  5.78973890e+09,   2.08339106e+06,  -8.91231418e+10,\n",
       "          -6.74346205e+07,  -3.79455593e+08,  -3.79566250e+09,\n",
       "           1.65303948e+08,  -5.47905983e+08,   5.34886556e+09,\n",
       "           4.46018085e+08,   3.60592114e+07,  -4.90379141e+08,\n",
       "           3.74264806e+08,   1.11414068e+09,   4.22590515e+08,\n",
       "          -3.11495627e+04],\n",
       "        [ -6.48823409e+10,  -1.57135336e+07,   2.36470572e+11,\n",
       "           7.53450521e+08,   4.93777775e+09,   3.98529743e+10,\n",
       "           1.78351624e+09,   9.08490085e+08,  -6.40542821e+10,\n",
       "          -6.87663261e+09,  -4.90379141e+08,   2.90299370e+10,\n",
       "          -2.05046417e+10,  -1.54745351e+10,  -3.03105488e+10,\n",
       "           4.33631786e+05],\n",
       "        [  5.95452823e+10,   8.41386300e+06,  -8.95277528e+11,\n",
       "          -5.05695932e+08,  -3.37858297e+09,  -3.60225678e+10,\n",
       "          -1.18670445e+09,  -1.56148975e+09,   5.55019576e+10,\n",
       "           5.39334787e+09,   3.74264806e+08,  -2.05046417e+10,\n",
       "           1.49749232e+10,   1.00522052e+10,   2.14968707e+10,\n",
       "          -3.17766075e+05],\n",
       "        [  2.55213368e+11,  -2.46404382e+07,   1.55754393e+13,\n",
       "          -6.97465577e+09,  -4.62769248e+10,  -1.59994455e+11,\n",
       "           1.69160782e+10,  -3.78543538e+10,   2.25980666e+11,\n",
       "           2.00694422e+10,   1.11414068e+09,  -1.54745351e+10,\n",
       "           1.00522052e+10,   1.09162113e+11,   5.28307931e+09,\n",
       "          -1.01779815e+06],\n",
       "        [  5.85130949e+10,   2.42933235e+07,  -2.88778828e+12,\n",
       "          -5.14082803e+07,  -1.72135394e+08,  -3.57060356e+10,\n",
       "          -4.63584187e+09,   3.70039292e+09,   5.55350498e+10,\n",
       "           5.22095420e+09,   4.22590515e+08,  -3.03105488e+10,\n",
       "           2.14968707e+10,   5.28307931e+09,   3.33527065e+10,\n",
       "          -3.78573336e+05],\n",
       "        [ -4.96971319e+06,  -2.25008745e+03,   3.15891990e+07,\n",
       "           7.06234803e+04,   4.03277881e+05,   3.30246818e+06,\n",
       "          -1.31563604e+05,   4.48970099e+05,  -4.59673782e+06,\n",
       "          -3.75598077e+05,  -3.11495627e+04,   4.33631786e+05,\n",
       "          -3.17766075e+05,  -1.01779815e+06,  -3.78573336e+05,\n",
       "           2.84930658e+01]]))"
      ]
     },
     "execution_count": 104,
     "metadata": {},
     "output_type": "execute_result"
    }
   ],
   "source": [
    "Path = '/Users/cgoldsmith/Desktop/text_files_data'\n",
    "os.chdir(Path)\n",
    "data = np.loadtxt('TDSE_3fs.txt')\n",
    "x = data[:, 0]\n",
    "y = data[:, 4]\n",
    "sopt.curve_fit(fitAlphas, x, y,\\\n",
    "p0 = p0_test, bounds=(-20,700), max_nfev=10000, check_finite=False)"
   ]
  },
  {
   "cell_type": "code",
   "execution_count": 111,
   "metadata": {
    "collapsed": false
   },
   "outputs": [
    {
     "data": {
      "text/plain": [
       "(-5, 5)"
      ]
     },
     "execution_count": 111,
     "metadata": {},
     "output_type": "execute_result"
    },
    {
     "data": {
      "image/png": "[encoded data removed]",
      "text/plain": [
       "<matplotlib.figure.Figure at 0x10916f5d0>"
      ]
     },
     "metadata": {},
     "output_type": "display_data"
    }
   ],
   "source": [
    "plt.plot(x, y, 'bo', defs.omega_dip, fitAlphas(defs.omega_dip, -9.81535494e+00,   3.14053010e-01,   4.94111384e+02,\n",
    "          4.30146679e-01,  -2.09667239e+00,   5.85035180e+00,\n",
    "          3.26531315e-01,  -3.86932516e-01,  -6.38185017e+00,\n",
    "          9.69371461e+00,   6.33573641e-02,  -1.60493177e-01,\n",
    "         -1.36577603e-01,   1.15083895e-02,  -7.14802190e-02,\n",
    "          6.49634984e-03), 'r-')\n",
    "\n",
    "pylab.ylim([-5, 5])"
   ]
  },
  {
   "cell_type": "code",
   "execution_count": null,
   "metadata": {
    "collapsed": true
   },
   "outputs": [],
   "source": []
  }
 ],
 "metadata": {
  "kernelspec": {
   "display_name": "Python 2",
   "language": "python",
   "name": "python2"
  },
  "language_info": {
   "codemirror_mode": {
    "name": "ipython",
    "version": 2
   },
   "file_extension": ".py",
   "mimetype": "text/x-python",
   "name": "python",
   "nbconvert_exporter": "python",
   "pygments_lexer": "ipython2",
   "version": "2.7.11"
  }
 },
 "nbformat": 4,
 "nbformat_minor": 0
}
