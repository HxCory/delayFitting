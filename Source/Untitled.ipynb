{
 "cells": [
  {
   "cell_type": "code",
   "execution_count": null,
   "metadata": {
    "collapsed": false
   },
   "outputs": [
    {
     "name": "stdout",
     "output_type": "stream",
     "text": [
      "Dipoles Calc'd\n",
      "dPhi calc'd\n",
      "Dipoles Calc'd\n",
      "dPhi calc'd\n",
      "Dipoles Calc'd\n",
      "dPhi calc'd\n"
     ]
    }
   ],
   "source": [
    "from numpy import sqrt, pi, exp, linspace, loadtxt\n",
    "import numpy as np\n",
    "from lmfit import  Model\n",
    "import os\n",
    "import matplotlib.pyplot as plt\n",
    "import definitionsFits as defs\n",
    "import twoPhotonDipole as func\n",
    "%matplotlib inline\n",
    "\n",
    "Path = '/Users/cgoldsmith/Desktop/text_files_data'\n",
    "os.chdir(Path)\n",
    "data = loadtxt('TDSE_3fs.txt')\n",
    "x = data[:, 0]\n",
    "y = data[:, 4]\n",
    "\n",
    "gmod = Model(func.fitDipoleFactors)\n",
    "result = gmod.fit(y, omegaF = x, m1 = 1.0, m3 = 1.0,\\\n",
    "\tc_1 = -4.0088389208,  c_3 = 1.0094309140)\n",
    "\n",
    "print(result.fit_report())\n",
    "\n",
    "plt.plot(x, y,'bo')\n",
    "plt.plot(x, result.init_fit, 'k--')\n",
    "plt.plot(x, result.best_fit, 'r-')\n",
    "# # plt.show()\n"
   ]
  },
  {
   "cell_type": "code",
   "execution_count": null,
   "metadata": {
    "collapsed": true
   },
   "outputs": [],
   "source": []
  }
 ],
 "metadata": {
  "kernelspec": {
   "display_name": "Python 2",
   "language": "python",
   "name": "python2"
  },
  "language_info": {
   "codemirror_mode": {
    "name": "ipython",
    "version": 2
   },
   "file_extension": ".py",
   "mimetype": "text/x-python",
   "name": "python",
   "nbconvert_exporter": "python",
   "pygments_lexer": "ipython2",
   "version": "2.7.11"
  }
 },
 "nbformat": 4,
 "nbformat_minor": 0
}
