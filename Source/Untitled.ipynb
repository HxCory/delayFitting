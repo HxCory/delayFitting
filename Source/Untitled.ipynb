{
 "cells": [
  {
   "cell_type": "code",
   "execution_count": 1,
   "metadata": {
    "collapsed": true
   },
   "outputs": [],
   "source": [
    "import os\n",
    "import cmath\n",
    "import numpy as np\n",
    "import matplotlib.pylab as plb\n",
    "import matplotlib.pyplot as plt\n",
    "from lmfit import  Model\n",
    "%matplotlib inline"
   ]
  },
  {
   "cell_type": "code",
   "execution_count": 2,
   "metadata": {
    "collapsed": true
   },
   "outputs": [],
   "source": [
    "Path = '/Users/cgoldsmith/Desktop/text_files_data'\n",
    "    # os.chdir(Path)\n",
    "omega_dip=np.zeros(2000)\n",
    "i=0\n",
    "with open(Path+'/omega4dip.txt') as infile:\n",
    "    for line in infile:\n",
    "        omega_dip[i]=(line.split()[0])\n",
    "        i=i+1\n",
    "\n",
    "dip_1=np.zeros(np.size(omega_dip))\n",
    "i=0\n",
    "with open(Path + '/alpha1_3fs.txt') as infile:\n",
    "    for line in infile:\n",
    "        dip_1[i]=(line.split()[0])\n",
    "        i=i+1    \n",
    "\n",
    "dip_3=np.zeros(np.size(omega_dip))\n",
    "i=0\n",
    "with open(Path + '/alpha3_3fs.txt') as infile:\n",
    "    for line in infile:\n",
    "        dip_3[i]=(line.split()[0])\n",
    "        i = i + 1"
   ]
  },
  {
   "cell_type": "code",
   "execution_count": 5,
   "metadata": {
    "collapsed": false
   },
   "outputs": [
    {
     "name": "stdout",
     "output_type": "stream",
     "text": [
      "[[Model]]\n",
      "    Model(gaussian)\n",
      "[[Fit Statistics]]\n",
      "    # function evals   = 256\n",
      "    # data points      = 2000\n",
      "    # variables        = 3\n",
      "    chi-square         = 21445.114\n",
      "    reduced chi-square = 10.739\n",
      "    Akaike info crit   = 4750.699\n",
      "    Bayesian info crit = 4767.502\n",
      "[[Variables]]\n",
      "    amp:   1.45142915 +/- 0.081339 (5.60%) (init= 5)\n",
      "    cen:   1.09130795 +/- 0.011228 (1.03%) (init= 5)\n",
      "    wid:   0.17087249 +/- 0.010724 (6.28%) (init= 1)\n",
      "[[Correlations]] (unreported correlations are <  0.100)\n",
      "    C(amp, wid)                  =  0.549 \n",
      "    C(amp, cen)                  =  0.214 \n",
      "    C(cen, wid)                  =  0.198 \n",
      "\n"
     ]
    },
    {
     "data": {
      "text/plain": [
       "[<matplotlib.lines.Line2D at 0x10a8fbbd0>]"
      ]
     },
     "execution_count": 5,
     "metadata": {},
     "output_type": "execute_result"
    },
    {
     "data": {
      "image/png": "[encoded data removed]",
      "text/plain": [
       "<matplotlib.figure.Figure at 0x10a409450>"
      ]
     },
     "metadata": {},
     "output_type": "display_data"
    }
   ],
   "source": [
    "def gaussian(x, amp, cen, wid):\n",
    "    \"1-d gaussian: gaussian(x, amp, cen, wid)\"\n",
    "    return (amp/(np.sqrt(2*np.pi)*wid)) * np.exp(-(x-cen)**2 /(2*wid**2))\n",
    "\n",
    "gmod = Model(gaussian)\n",
    "result = gmod.fit(dip_1, x=omega_dip, amp=5, cen=5, wid=1)\n",
    "\n",
    "print(result.fit_report())\n",
    "x = omega_dip\n",
    "y = dip_1\n",
    "plt.plot(x, y,         'b-')\n",
    "plt.plot(x, result.init_fit, 'k--')\n",
    "plt.plot(x, result.best_fit, 'r-')"
   ]
  },
  {
   "cell_type": "code",
   "execution_count": null,
   "metadata": {
    "collapsed": true
   },
   "outputs": [],
   "source": []
  }
 ],
 "metadata": {
  "kernelspec": {
   "display_name": "Python 2",
   "language": "python",
   "name": "python2"
  },
  "language_info": {
   "codemirror_mode": {
    "name": "ipython",
    "version": 2
   },
   "file_extension": ".py",
   "mimetype": "text/x-python",
   "name": "python",
   "nbconvert_exporter": "python",
   "pygments_lexer": "ipython2",
   "version": "2.7.11"
  }
 },
 "nbformat": 4,
 "nbformat_minor": 0
}
