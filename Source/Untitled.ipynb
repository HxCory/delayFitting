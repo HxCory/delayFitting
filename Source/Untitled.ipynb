{
 "cells": [
  {
   "cell_type": "code",
   "execution_count": 1,
   "metadata": {
    "collapsed": true
   },
   "outputs": [],
   "source": [
    "import os\n",
    "import cmath\n",
    "import numpy as np\n",
    "import matplotlib.pylab as plb\n",
    "import matplotlib.pyplot as plt\n",
    "\n",
    "def getk(omega, IP):\n",
    "\tk =  np.sqrt(2 * ((2 * omega) - IP))\n",
    "\treturn k\n",
    "\n",
    "def conjugate(z):\n",
    "\treturn np.real(z) - (cmath.sqrt(-1) * np.imag(z))\n",
    "\n",
    "Path = '/Users/cgoldsmith/repos/delayFitting/Data/eigenstates/wavefxCalc__2'\n",
    "os.chdir(Path)\n",
    "\n",
    "m = range(1, 3)\n",
    "E_0 = -1.1591\n",
    "E_m = [-0.8502, -0.3278, -0.1665]\n",
    "\n",
    "omegaAU = 1.15\n",
    "\n",
    "wfsize = 0\n",
    "\n",
    "\n",
    "with open('wf1D0.txt') as infile:\n",
    "\tfor line in infile:\n",
    "\t\trow = (line.split())[0]\n",
    "\t\twfsize = wfsize + 1\n",
    "\n",
    "z = np.zeros(wfsize)\n",
    "wf0 = np.zeros(wfsize)\n",
    "wf1 = np.zeros(wfsize)\n",
    "wf2 = np.zeros(wfsize)\n",
    "wf3 = np.zeros(wfsize)\n",
    "planeWaveTest = np.zeros(wfsize, 'complex')\n",
    "zRealPlaneWave = np.zeros(wfsize)\n",
    "zImagPlaneWave = np.zeros(wfsize)\n",
    "\n",
    "i = 0\n",
    "with open('wf1D0.txt') as infile:\n",
    "\tfor line in infile:\n",
    "\t\tz[i] = (line.split())[0]\n",
    "\t\twf0[i] = (line.split())[1]\n",
    "\t\ti = i + 1\n",
    "\n",
    "i = 0\n",
    "with open('wf1D1.txt') as infile:\n",
    "\tfor line in infile:\n",
    "\t\twf1[i] = (line.split())[1]\n",
    "\t\ti = i + 1\n",
    "\n",
    "i = 0\n",
    "with open('wf1D2.txt') as infile:\n",
    "\tfor line in infile:\n",
    "\t\twf2[i] = (line.split())[1]\n",
    "\t\ti = i + 1\n",
    "\n",
    "i = 0\n",
    "with open('wf1D3.txt') as infile:\n",
    "\tfor line in infile:\n",
    "\t\twf3[i] = (line.split())[1]\n",
    "\t\ti = i + 1"
   ]
  },
  {
   "cell_type": "code",
   "execution_count": null,
   "metadata": {
    "collapsed": true
   },
   "outputs": [],
   "source": []
  }
 ],
 "metadata": {
  "kernelspec": {
   "display_name": "Python 2",
   "language": "python",
   "name": "python2"
  },
  "language_info": {
   "codemirror_mode": {
    "name": "ipython",
    "version": 2
   },
   "file_extension": ".py",
   "mimetype": "text/x-python",
   "name": "python",
   "nbconvert_exporter": "python",
   "pygments_lexer": "ipython2",
   "version": "2.7.11"
  }
 },
 "nbformat": 4,
 "nbformat_minor": 0
}
